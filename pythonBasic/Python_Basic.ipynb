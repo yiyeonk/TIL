{
 "cells": [
  {
   "cell_type": "markdown",
   "metadata": {},
   "source": [
    "# 파이썬 기초"
   ]
  },
  {
   "cell_type": "markdown",
   "metadata": {},
   "source": [
    "**파이썬** : 매우 인간적인 언어\n",
    " - 프로그래밍(언어:파이썬 ...) -> 프로그램(application, app)\n",
    " - 프로그래밍 : 우리가 생각하는 것을 컴퓨터에 지시하는 행위\n",
    " - 파이썬으로 만드는 것 : 유틸리티, gui, web, DB, 데이터분석, IOT\n",
    " - 파이썬으로 만들 수 없는 것 : 모바일, 시스템과 밀접한 프로그래밍 영역"
   ]
  },
  {
   "cell_type": "markdown",
   "metadata": {},
   "source": [
    "## 1. 파이썬 프로그래밍의 기초, 자료형\n",
    "\n",
    "### 1) 숫자형\n",
    "- 정수(int), 실수(float)\n",
    "- **연산자** : 사칙연산, '**'(제곱), '//'(몫), '%'(나누기)\n",
    "\n",
    "### 2) 문자열 자료형\n",
    "- \"문자\", '문자', \"\"\"긴 문장\"\"\", '''긴 문장'''\n",
    "- '\\n' : 줄바꿈\n",
    "> **이스케이프 코드**\n",
    "    - \\n(줄바꿈), \\t(tab), \\\\(\\), \\'('), \\\"(\")\n",
    "    \n",
    "- `len()` : 문자열 길이 구함\n",
    "- 문자열 인덱싱 : a[0], .. a[n]"
   ]
  },
  {
   "cell_type": "code",
   "execution_count": null,
   "metadata": {},
   "outputs": [],
   "source": []
  }
 ],
 "metadata": {
  "kernelspec": {
   "display_name": "Python 3",
   "language": "python",
   "name": "python3"
  },
  "language_info": {
   "codemirror_mode": {
    "name": "ipython",
    "version": 3
   },
   "file_extension": ".py",
   "mimetype": "text/x-python",
   "name": "python",
   "nbconvert_exporter": "python",
   "pygments_lexer": "ipython3",
   "version": "3.7.4"
  }
 },
 "nbformat": 4,
 "nbformat_minor": 2
}
