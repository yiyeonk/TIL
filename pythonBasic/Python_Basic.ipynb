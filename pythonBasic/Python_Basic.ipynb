{
 "cells": [
  {
   "cell_type": "markdown",
   "metadata": {},
   "source": [
    "# Python_Basic\n",
    "\n",
    "> **파이썬의 특징**\n",
    "   - 인간다운 언어\n",
    "   - 문법이 쉽고 간결하다\n",
    "   - 개발 속도가 빠르다\n",
    "    \n",
    "> **프로그래밍** : 우리가 생각하는 것을 컴퓨터에 지시하는 행위\n",
    "   - 프로그래밍 언어(파이썬....) -> 프로그램(application, app)\n",
    "   - 파이썬으로 만드는 것 : 유틸리티, gui, web, DB, 데이터분석, IOT\n",
    "   - 파이썬으로 만들 수 없는 것 : 모바일, 시스템과 밀접한 프로그래밍 영역"
   ]
  },
  {
   "cell_type": "markdown",
   "metadata": {},
   "source": [
    "## 1. 파이썬 프로그래밍의 기초, 자료형\n",
    "\n",
    "### 1) 숫자형\n",
    "- 정수(int), 실수(float)\n",
    "- **연산자** : 사칙연산, '**'(제곱), '//'(몫), '%'(나누기)\n",
    "\n",
    "### 2) 문자열 자료형\n",
    "- \"문자\", '문자', \"\"\"긴 문장\"\"\", '''긴 문장'''\n",
    "- \\n(줄바꿈), \\t(tab), \\\\(\\), \\'('), \\\"(\")\n",
    "    \n",
    "- **`len()`** : 문자열 길이 구함\n",
    "- **문자열 인덱싱** : a[0], .. a[n]\n",
    "- **문자열 슬라이싱** : a[시작:끝:간격]\n",
    "- **문자열 포매팅** : \n",
    "    - `%s(문자열(string))`, `%c(문자 1개(character))`, `%d(정수(integer))`, `%f(부동소수(floating-point))`\n",
    "        - ex) \"Error is %d%.\"%98 = 'Error is 98%'\n",
    "    - _정렬과 공백_ : `%10s`, `%-10s` (전체 길이가 10개인 문자열 공간에 대입되는 값을 오른쪽으로 정렬 그 앞의 나머지는 공백으로 남겨둠. '-'는 왼쪽) \n",
    "    - _소수점_ : `%0.4f` : '.'이후 의미는 소수점 뒤의 숫자 개수\n",
    "    - **format** : \"I eat {0} apples\".format(3)  (인덱스, 이름 혼용하여 사용 가능)\n",
    "        - 정렬 : `{0:<10} (Left)`, `{0:>10} (Right)`, `{0:^10} (center)`, `{0:!<10} (공백 대신 지정한 문자 값으로 채움)`\n",
    "- **문자열 관련 함수**\n",
    "    - `변수.count('문자열')` : 변수 중 문자의 개수를 돌려줌\n",
    "    - `변수.find('문자열')` : 변수 중 문자의 처음나온 위치를 알려줌(문자 혹은 문자열이 존재하지 않으면 '-1'을 반환\n",
    "    - `변수.index('문자열')` : find함수와 동일하나, 문자열이 존재하지 않으면 오류발생\n",
    "    - `\",\".join('문자열/리스트/튜플')` : 문자열의 각각의 문자 사이에 \",\"를 삽입.\n",
    "    - `.upper()` / `.lower()` : 대문자/소문자 변환\n",
    "    - `.lstrip()` / `.rstrip()` / `.strip()` : 한 칸 이상의 연속된 공백을 모두 지움\n",
    "    - `.replace(\"바뀔 문자열\",\"바꿀 문자열\")` : 문자열 바꾸기\n",
    "    - `.split()` : 문자열 나누기(공백 혹은 특정 값으로 나눌 수 있음"
   ]
  },
  {
   "cell_type": "markdown",
   "metadata": {},
   "source": [
    "### 3) 리스트 자료형\n",
    "- `리스트명 = [요소1, 요소2, 요소3....]`\n",
    "- 빈리스트, 숫자, 문자열을 함께 요솟값으로 가질 수 있음\n",
    "\n",
    "- **리스트 반복하기** : '[a,b,c]*2 = [1,2,3,1,2,3]'\n",
    "- **리스트 값 수정** : a = [1,2,3] -> a[2] = 4 -> a[1,2,4]\n",
    "- **`del a[x]`** : 리스트 요소 삭제(x번째 요솟값을 삭제함)\n",
    "- **`.append(x)`** : 리스트에 요소 추가(어떤 자료형도 추가할 수 있음)\n",
    "- **`.expend(x)`** : x에는 리스트만 올 수 있음 -> 원래 리스트에 x리스트를 추가\n",
    "- **`.sort()`** : 리스트의 요소를 순서대로 정렬\n",
    "- **`.reverse()`** : 리스트를 역순으로 뒤집음.\n",
    "- **`.index(x)`** :  위치 반환, 리스트에 존재하지 않을 때 오류 발생\n",
    "- **`.inser(a,b)`** : a번째 위치에 b를 삽입하는 함수\n",
    "- **`.remove(x)`** : 리스트에서 첫번째로 나오는 x만 삭제(반복 실행해야 뒤에 나오는 x값도 삭제함)\n",
    "- **`.pop()`** : 리스트의 맨 마지막 요소를 돌려주고 그 요소는 삭제함\n",
    "- **`.count(x)`** : 리스트 안에 x가 몇 개 있는지 조사하여 그 개수를 돌려줌\n",
    "\n",
    "### 4) 튜플 자료형\n",
    "- `()` : 튜플은 그 값을 생성, 삭제, 수정할 수 없음\n",
    "- `(1,)` : 튜플은 1개의 요소만을 가질 때, 콤마(,)를 붙여야함\n",
    "- `len()`, `반복(*)`, `병합(+)`이 가능함"
   ]
  },
  {
   "cell_type": "markdown",
   "metadata": {},
   "source": [
    "### 5) 딕셔너리 자료형\n",
    "- `{key1:value1, key2:value2,....}` : key와 value를 한 쌍으로 갖는 자료형\n",
    "- **특징**\n",
    "    - key에는 리스트를 사용할 수 없음, 튜플은 가능\n",
    "    - value에는 리스트 사용 가능\n",
    "    - 순서가 없는 자료형으로 인덱스를 사용할 수 없음\n",
    "- **딕셔너리 쌍 추가** : a['name'] = 'pey'  -> {1:'a', 'name':'pey'}\n",
    "- **`del a[key]`** : 딕셔너리 요소 삭제. 키에 해당하는 key-value 쌍이 삭제됨\n",
    "- **`변수명[key]`** : 해당 key의 value값 출력(인덱스가 아니기 때문에, 인덱싱을 사용할 수 없음)\n",
    "- **딕셔너리 관련 함수**\n",
    "    - `list(.keys())` : key 리스트 만들기\n",
    "    - `.value()` : value 리스트 만들기\n",
    "    - `.items()` : key, value 쌍 얻기\n",
    "    - `.clear()` : 딕셔너리 안의 모든 요소 삭제\n",
    "    - `.get()` : key로 value 얻기\n",
    "       - `.get('찾는 값', '디폴트값')` : 딕셔너리 안에 찾으려는 key값이 없을 경우 정해진 디폴트값 출력\n",
    "    - `key' in 변수` : 해당 key가 딕셔너리 안에 있는지 조사(T/F로 출력)"
   ]
  },
  {
   "cell_type": "markdown",
   "metadata": {},
   "source": [
    "### 6) 집합 자료형(set)\n",
    "- `set()` : 리스트 or 문자열을 입력\n",
    "- **특징** : 중복을 허용하지 않는다, 순서가 없다, 순서가 없는 자료형으로 인덱스를 사용할 수 없음\n",
    "- `&(교집합)`==`.intersection()`, `|(합집합)`==`.union()`, `-(차집합)` == `.difference()`\n",
    "- `.add()` : set에 값 추가\n",
    "- `.update()` : 여러개의 값을 한번에 추가\n",
    "- `.remove()` : 특정 값 제거\n",
    "\n",
    "### 7) 불 자료형(bool)\n",
    "- Bool 자료형 : True/False\n",
    "- 1이상의 수 혹은 문자열이 있으면 `True`\n",
    "- 0 혹은 [],(),{}(빈 리스트)이면 `False`"
   ]
  },
  {
   "cell_type": "markdown",
   "metadata": {},
   "source": [
    "### 8) 변수\n",
    "- `id()`, `변수1 is 변수2` : 값이 동일한지 확인\n",
    "- **리스트 복사**\n",
    "    - `b = a`\n",
    "    - `b = a[:]` : 주소가 다른 리스트 만들기, a리스트를 바꿔도 b리스트에는 영향을 미치지 않음\n",
    "    - `b = copy(a)` : copy모듈(from copy import copy) == b=a[:]    "
   ]
  },
  {
   "cell_type": "code",
   "execution_count": null,
   "metadata": {},
   "outputs": [],
   "source": []
  },
  {
   "cell_type": "code",
   "execution_count": null,
   "metadata": {},
   "outputs": [],
   "source": []
  },
  {
   "cell_type": "code",
   "execution_count": null,
   "metadata": {},
   "outputs": [],
   "source": []
  },
  {
   "cell_type": "code",
   "execution_count": null,
   "metadata": {},
   "outputs": [],
   "source": []
  },
  {
   "cell_type": "code",
   "execution_count": null,
   "metadata": {},
   "outputs": [],
   "source": []
  },
  {
   "cell_type": "code",
   "execution_count": null,
   "metadata": {},
   "outputs": [],
   "source": []
  },
  {
   "cell_type": "markdown",
   "metadata": {},
   "source": [
    "----------------------------------------------------------------------------"
   ]
  },
  {
   "cell_type": "markdown",
   "metadata": {},
   "source": [
    "## 2. 제어문"
   ]
  },
  {
   "cell_type": "markdown",
   "metadata": {},
   "source": [
    "### 1) if문\n",
    "- 기본구조  \n",
    "if 조건문:  \n",
    "    수행 문장 1  \n",
    "    수행 문장 2  \n",
    "elif:  \n",
    "    수행 문장 A  \n",
    "    수행 문장 B  \n",
    "else:  \n",
    "- **`x and y`, `x or y`, `not x`** : x와 y가 모두 참 / 둘중에 하나만 참->참 / x가 거짓이면 참\n",
    "- `x in [list]`, `x in (tuple)`, `x in \"string\"`\n",
    "- `pass` : 조건문에서 아무 일도 하지 않게 설정\n",
    "- `조건문이 참인 경우 if 조건문 else 조건문이 거짓인 경우` : 한줄로 코드 작성"
   ]
  },
  {
   "cell_type": "markdown",
   "metadata": {},
   "source": [
    "### 2) while\n",
    "- 기본구조  \n",
    "while <조건문>:  \n",
    "    <수행할 문장1>  \n",
    "    <수행할 문장2>  \n",
    "    <수행할 문장3>  \n",
    "- `break` : while문 강제로 빠져나가기\n",
    "- `continue` : while문의 맨 처음(조건문)으로 돌아가기\n",
    "- `True(무한루프)`  \n",
    "    while True:  \n",
    "        수행할 문장1  \n",
    "        수행할 문장2        "
   ]
  },
  {
   "cell_type": "markdown",
   "metadata": {},
   "source": [
    "### 3) for문\n",
    "- 기본구조  \n",
    "for 변수 in 리스트(또는 튜플, 문자열):  \n",
    "    수행할 문장1  \n",
    "    수행할 문장2  \n",
    "- `continue` : for문의 처음으로 돌아감\n",
    "- `range(시작숫자, 끝숫자)` : 숫자 리스트를 자동으로 만들어 주는 함수\n",
    "- `(, end=\"\")` : 해당 결과값을 출력할 때 다음줄로 넘기지 않고 그 줄에 계속해서 출력"
   ]
  },
  {
   "cell_type": "markdown",
   "metadata": {},
   "source": [
    "- if문을 한 줄로 작성"
   ]
  },
  {
   "cell_type": "code",
   "execution_count": 3,
   "metadata": {},
   "outputs": [
    {
     "ename": "NameError",
     "evalue": "name 'score' is not defined",
     "output_type": "error",
     "traceback": [
      "\u001b[1;31m---------------------------------------------------------------------------\u001b[0m",
      "\u001b[1;31mNameError\u001b[0m                                 Traceback (most recent call last)",
      "\u001b[1;32m<ipython-input-3-6f11a3d9b679>\u001b[0m in \u001b[0;36m<module>\u001b[1;34m\u001b[0m\n\u001b[1;32m----> 1\u001b[1;33m \u001b[1;32mif\u001b[0m \u001b[0mscore\u001b[0m \u001b[1;33m>=\u001b[0m \u001b[1;36m60\u001b[0m\u001b[1;33m:\u001b[0m\u001b[1;33m\u001b[0m\u001b[1;33m\u001b[0m\u001b[0m\n\u001b[0m\u001b[0;32m      2\u001b[0m     \u001b[0mmessage\u001b[0m \u001b[1;33m=\u001b[0m \u001b[1;34m\"success\"\u001b[0m\u001b[1;33m\u001b[0m\u001b[1;33m\u001b[0m\u001b[0m\n\u001b[0;32m      3\u001b[0m \u001b[1;32melse\u001b[0m\u001b[1;33m:\u001b[0m\u001b[1;33m\u001b[0m\u001b[1;33m\u001b[0m\u001b[0m\n\u001b[0;32m      4\u001b[0m     \u001b[0mmessage\u001b[0m \u001b[1;33m=\u001b[0m \u001b[1;34m\"failure\"\u001b[0m\u001b[1;33m\u001b[0m\u001b[1;33m\u001b[0m\u001b[0m\n\u001b[0;32m      5\u001b[0m \u001b[1;33m\u001b[0m\u001b[0m\n",
      "\u001b[1;31mNameError\u001b[0m: name 'score' is not defined"
     ]
    }
   ],
   "source": [
    "if score >= 60:\n",
    "    message = \"success\"\n",
    "else:\n",
    "    message = \"failure\"\n",
    "    \n",
    "# 한줄로 작성\n",
    "message = \"success\" if score >= 60 else \"failure\""
   ]
  },
  {
   "cell_type": "code",
   "execution_count": null,
   "metadata": {},
   "outputs": [],
   "source": []
  },
  {
   "cell_type": "markdown",
   "metadata": {},
   "source": [
    "---------------------------------------------------------------------------"
   ]
  },
  {
   "cell_type": "markdown",
   "metadata": {},
   "source": [
    "## 3. 함수\n",
    "- 기본구조  \n",
    "def 함수명(매개변수):  \n",
    "    <수행할 문장1>  \n",
    "    <수행할 문장2>\n",
    "    return 결과값\n",
    "- `return` : 함수의 결과값을 돌려줌\n",
    "- 입력값이 없는 함수\n",
    "def say():  \n",
    "     return 'Hi'   \n",
    "- 입력값이 몇 개가 될지 모를 때\n",
    "def 함수이름(*매개변수):   \n",
    "    <수행할 문장>  \n",
    "- `global a` : 함수 밖의 a 변수를 직접 사용\n",
    "- **`lambda 매개변수1, 매개변수1,...:`** : 함수를 생성할 때 사용하는 예약어, 한줄로 간결하게 만들때 사용"
   ]
  },
  {
   "cell_type": "markdown",
   "metadata": {},
   "source": [
    "-------------------------------------------------------------------------"
   ]
  },
  {
   "cell_type": "markdown",
   "metadata": {},
   "source": [
    "# 4. 파일 읽고 쓰기\n",
    "- 파일 생성 1  \n",
    "f = open(\"새파일.txt\", \"w\")  \n",
    "f.close()  \n",
    "****************************************************\n",
    "- 파일 생성 : with (열린 파일 객체가 자동으로 close)  \n",
    "with open(\"foo.txt\", \"w\") as f:  \n",
    "    f.write(\"Life is too short, you need python\")  \n",
    "\n",
    "- **파일열기 모드** : r(읽기), w(쓰기), a(추가)\n",
    "- **파일 읽기**\n",
    "    - `readline()` : 파일의 첫 번째 줄을 읽어 출력하는 경우\n",
    "    - `readlines()` : 파일의 모든 줄을 읽어 각각의 줄을 요소로 갖는 리스트로 출력\n",
    "    - `f.read()` : 파일의 내용 전체를 문자열로 돌려줌  "
   ]
  },
  {
   "cell_type": "markdown",
   "metadata": {},
   "source": [
    "## 5-1. class\n"
   ]
  },
  {
   "cell_type": "markdown",
   "metadata": {},
   "source": [
    "## 5-2. module\n"
   ]
  },
  {
   "cell_type": "markdown",
   "metadata": {},
   "source": [
    "## 5-3. package"
   ]
  },
  {
   "cell_type": "code",
   "execution_count": null,
   "metadata": {},
   "outputs": [],
   "source": []
  },
  {
   "cell_type": "markdown",
   "metadata": {},
   "source": [
    "- **1. 연습문제: 파이썬 기초, 자료형**"
   ]
  },
  {
   "cell_type": "code",
   "execution_count": 4,
   "metadata": {},
   "outputs": [
    {
     "name": "stdout",
     "output_type": "stream",
     "text": [
      "70.0\n"
     ]
    }
   ],
   "source": [
    "# 1. 평균점수 구하기\n",
    "korean, eng, math = [80, 75, 55]\n",
    "avg = (korean+eng+math)/3\n",
    "print(avg)"
   ]
  },
  {
   "cell_type": "code",
   "execution_count": 5,
   "metadata": {},
   "outputs": [
    {
     "name": "stdout",
     "output_type": "stream",
     "text": [
      "홀수\n"
     ]
    }
   ],
   "source": [
    "# 2. 자연수 13이 홀수인지 짝수인지 판별\n",
    "n = 13\n",
    "if n % 2 ==0:\n",
    "    print(\"짝수\")\n",
    "else:\n",
    "    print(\"홀수\")"
   ]
  },
  {
   "cell_type": "code",
   "execution_count": 13,
   "metadata": {},
   "outputs": [
    {
     "name": "stdout",
     "output_type": "stream",
     "text": [
      "['881120', '1068234']\n"
     ]
    }
   ],
   "source": [
    "# 3. 주민등록번호를 생년월일과 그 뒤의 숫자부분으로 나누어 출력\n",
    "pin = \"881120-1068234\"\n",
    "print(pin.split('-'))"
   ]
  },
  {
   "cell_type": "code",
   "execution_count": 15,
   "metadata": {},
   "outputs": [
    {
     "name": "stdout",
     "output_type": "stream",
     "text": [
      "1\n"
     ]
    }
   ],
   "source": [
    "# 4. 주민등록 번호에서 성별을 나타내는 숫자를 출력\n",
    "pin = \"881120-1068234\"\n",
    "print(pin[7])"
   ]
  },
  {
   "cell_type": "code",
   "execution_count": 16,
   "metadata": {},
   "outputs": [
    {
     "name": "stdout",
     "output_type": "stream",
     "text": [
      "a#b#c#d\n"
     ]
    }
   ],
   "source": [
    "# 5. a#b#c#d로 바꿔서 출력해 보자.\n",
    "a = \"a:b:c:d\"\n",
    "print(a.replace(':','#'))"
   ]
  },
  {
   "cell_type": "code",
   "execution_count": 21,
   "metadata": {},
   "outputs": [
    {
     "name": "stdout",
     "output_type": "stream",
     "text": [
      "[5, 4, 3, 2, 1]\n"
     ]
    }
   ],
   "source": [
    "# 6. [1, 3, 5, 4, 2] 리스트를 [5, 4, 3, 2, 1]로 만들어 보자.\n",
    "a = [1,3,5,4,2]\n",
    "a.sort()\n",
    "a.reverse()\n",
    "print(a)"
   ]
  },
  {
   "cell_type": "code",
   "execution_count": 23,
   "metadata": {},
   "outputs": [
    {
     "name": "stdout",
     "output_type": "stream",
     "text": [
      "Life is too short\n"
     ]
    }
   ],
   "source": [
    "# 7. ['Life', 'is', 'too', 'short'] 리스트를 Life is too short 문자열로 만들어 출력해 보자.\n",
    "s = ['Life', 'is', 'too', 'short'] \n",
    "print(' '.join(s))"
   ]
  },
  {
   "cell_type": "code",
   "execution_count": 24,
   "metadata": {},
   "outputs": [
    {
     "data": {
      "text/plain": [
       "(1, 2, 3, 4)"
      ]
     },
     "execution_count": 24,
     "metadata": {},
     "output_type": "execute_result"
    }
   ],
   "source": [
    "# 8. (1,2,3) 튜플에 값4를 추가\n",
    "(1,2,3)+(4,)"
   ]
  },
  {
   "cell_type": "code",
   "execution_count": 25,
   "metadata": {},
   "outputs": [],
   "source": [
    "# 9. 딕셔너리 a가 있다\n",
    "a = dict()\n",
    "# 3번 오류 발생, 키값에는 리스트가 올 수 없음"
   ]
  },
  {
   "cell_type": "code",
   "execution_count": 30,
   "metadata": {},
   "outputs": [
    {
     "data": {
      "text/plain": [
       "80"
      ]
     },
     "execution_count": 30,
     "metadata": {},
     "output_type": "execute_result"
    }
   ],
   "source": [
    "# 10. 딕셔너리 a에서 'B'에 해당되는 값을 추출해 보자.\n",
    "a = {'A':90, 'B':80, 'C':70} \n",
    "a.pop('B')"
   ]
  },
  {
   "cell_type": "code",
   "execution_count": 31,
   "metadata": {},
   "outputs": [
    {
     "data": {
      "text/plain": [
       "{1, 2, 3, 4, 5}"
      ]
     },
     "execution_count": 31,
     "metadata": {},
     "output_type": "execute_result"
    }
   ],
   "source": [
    "# 11. a 리스트에서 중복 숫자를 제거해 보자.\n",
    "\n",
    "a = [1, 1, 1, 2, 2, 3, 3, 3, 4, 4, 5]\n",
    "set(a)"
   ]
  },
  {
   "cell_type": "code",
   "execution_count": 33,
   "metadata": {},
   "outputs": [
    {
     "name": "stdout",
     "output_type": "stream",
     "text": [
      "[1, 4, 3]\n"
     ]
    }
   ],
   "source": [
    "# 12. 다음과 같이 a, b 변수를 선언한 후 a의 두 번째 요솟값을 변경하면 b 값은 어떻게 될까? 그리고 이런 결과가 오는 이유에 대해 설명해 보자.\n",
    "a = b = [1, 2, 3]\n",
    "a[1] = 4\n",
    "print(b)\n",
    "\n",
    "# a = b 로 변수를 선언한 경우, 동일한 경로에 저장되어 b값도 함께 변경됨. 따라서 b=a[:] 으로 선언"
   ]
  },
  {
   "cell_type": "markdown",
   "metadata": {},
   "source": [
    "---------------------------------------------------------------------------"
   ]
  },
  {
   "cell_type": "markdown",
   "metadata": {},
   "source": [
    "- **2. 연습문제 : 제어문**"
   ]
  },
  {
   "cell_type": "code",
   "execution_count": 35,
   "metadata": {},
   "outputs": [
    {
     "name": "stdout",
     "output_type": "stream",
     "text": [
      "shirt\n"
     ]
    }
   ],
   "source": [
    "# 1. 다음 코드의 결괏값?\n",
    "\n",
    "a = \"Life is too short, you need python\"\n",
    "\n",
    "if \"wife\" in a: print(\"wife\")\n",
    "elif \"python\" in a and \"you\" not in a: print(\"python\")\n",
    "elif \"shirt\" not in a: print(\"shirt\")\n",
    "elif \"need\" in a: print(\"need\")\n",
    "else: print(\"none\")\n",
    "    \n",
    "# shirt 출력"
   ]
  },
  {
   "cell_type": "code",
   "execution_count": 37,
   "metadata": {},
   "outputs": [
    {
     "name": "stdout",
     "output_type": "stream",
     "text": [
      "166833\n"
     ]
    }
   ],
   "source": [
    "# ** 2. while문을 사용해 1부터 1000까지의 자연수 중 3의 배수의 합을 구해 보자.\n",
    "res = 0\n",
    "i = 1\n",
    "\n",
    "while i <= 1000:\n",
    "    if i % 3 == 0:\n",
    "        res += i\n",
    "    i += 1\n",
    "print(res)"
   ]
  },
  {
   "cell_type": "code",
   "execution_count": 39,
   "metadata": {},
   "outputs": [
    {
     "name": "stdout",
     "output_type": "stream",
     "text": [
      "*\n",
      "**\n",
      "***\n",
      "****\n",
      "*****\n"
     ]
    }
   ],
   "source": [
    "# 3. while문을 사용하여 다음과 같이 별(*)을 표시하는 프로그램을 작성해 보자.\n",
    "\n",
    "i = 0\n",
    "\n",
    "while True:\n",
    "    i += 1\n",
    "    if i > 5:\n",
    "        break\n",
    "    print('*'*i)\n",
    "        "
   ]
  },
  {
   "cell_type": "code",
   "execution_count": 42,
   "metadata": {
    "scrolled": true
   },
   "outputs": [
    {
     "name": "stdout",
     "output_type": "stream",
     "text": [
      "1\n",
      "2\n",
      "3\n",
      "4\n",
      "5\n",
      "6\n",
      "7\n",
      "8\n",
      "9\n",
      "10\n",
      "11\n",
      "12\n",
      "13\n",
      "14\n",
      "15\n",
      "16\n",
      "17\n",
      "18\n",
      "19\n",
      "20\n",
      "21\n",
      "22\n",
      "23\n",
      "24\n",
      "25\n",
      "26\n",
      "27\n",
      "28\n",
      "29\n",
      "30\n",
      "31\n",
      "32\n",
      "33\n",
      "34\n",
      "35\n",
      "36\n",
      "37\n",
      "38\n",
      "39\n",
      "40\n",
      "41\n",
      "42\n",
      "43\n",
      "44\n",
      "45\n",
      "46\n",
      "47\n",
      "48\n",
      "49\n",
      "50\n",
      "51\n",
      "52\n",
      "53\n",
      "54\n",
      "55\n",
      "56\n",
      "57\n",
      "58\n",
      "59\n",
      "60\n",
      "61\n",
      "62\n",
      "63\n",
      "64\n",
      "65\n",
      "66\n",
      "67\n",
      "68\n",
      "69\n",
      "70\n",
      "71\n",
      "72\n",
      "73\n",
      "74\n",
      "75\n",
      "76\n",
      "77\n",
      "78\n",
      "79\n",
      "80\n",
      "81\n",
      "82\n",
      "83\n",
      "84\n",
      "85\n",
      "86\n",
      "87\n",
      "88\n",
      "89\n",
      "90\n",
      "91\n",
      "92\n",
      "93\n",
      "94\n",
      "95\n",
      "96\n",
      "97\n",
      "98\n",
      "99\n"
     ]
    }
   ],
   "source": [
    "# 4. for문을 사용해 1부터 100까지의 숫자를 출력해 보자.\n",
    "\n",
    "for i in range(1,100):\n",
    "    print(i)"
   ]
  },
  {
   "cell_type": "code",
   "execution_count": 45,
   "metadata": {},
   "outputs": [
    {
     "name": "stdout",
     "output_type": "stream",
     "text": [
      "79.0\n"
     ]
    }
   ],
   "source": [
    "# ** 5. for문을 사용하여 A 학급의 평균 점수를 구해 보자.\n",
    "\n",
    "score = [70, 60, 55, 75, 95, 90, 80, 80, 85, 100]\n",
    "sum = 0\n",
    "\n",
    "for i in score:\n",
    "    sum += i   # score의 점수를 모두 더함\n",
    "    \n",
    "avg = sum/len(score)\n",
    "print(avg)\n",
    "    "
   ]
  },
  {
   "cell_type": "code",
   "execution_count": 47,
   "metadata": {},
   "outputs": [
    {
     "name": "stdout",
     "output_type": "stream",
     "text": [
      "[2, 6, 10]\n"
     ]
    }
   ],
   "source": [
    "# ** 6. 리스트 중에서 홀수에만 2를 곱하여 저장하는 다음 코드가 있다.\n",
    "\n",
    "num = [1, 2, 3, 4, 5]\n",
    "# result = []\n",
    "# for n in numbers:\n",
    "#     if n % 2 == 1:\n",
    "#         result.append(n*2)\n",
    "        \n",
    "res = [n*2 for n in num if n%2==1]\n",
    "print(res)"
   ]
  },
  {
   "cell_type": "markdown",
   "metadata": {},
   "source": [
    "-------------------------------------------------------------------------"
   ]
  },
  {
   "cell_type": "markdown",
   "metadata": {},
   "source": [
    "- 3. 연습문제 : 함수"
   ]
  },
  {
   "cell_type": "code",
   "execution_count": 50,
   "metadata": {},
   "outputs": [
    {
     "name": "stdout",
     "output_type": "stream",
     "text": [
      "홀\n"
     ]
    }
   ],
   "source": [
    "# 주어진 자연수가 홀수인지 짝수인지 판별해 주는 함수(is_odd)를 작성해 보자.\n",
    "\n",
    "def is_odd(*arg):\n",
    "    for i in arg:\n",
    "        if i % 2 == 0:\n",
    "            print(\"짝\")\n",
    "        else:\n",
    "            print(\"홀\")\n",
    "            \n",
    "is_odd(13)"
   ]
  },
  {
   "cell_type": "code",
   "execution_count": 52,
   "metadata": {},
   "outputs": [
    {
     "name": "stdout",
     "output_type": "stream",
     "text": [
      "3.0\n"
     ]
    }
   ],
   "source": [
    "# 2. 입력으로 들어오는 모든 수의 평균 값을 계산해 주는 함수를 작성해 보자. (단 입력으로 들어오는 수의 개수는 정해져 있지 않다.)\n",
    "\n",
    "def avg(*arg):\n",
    "    sum = 0\n",
    "    for i in arg:\n",
    "        sum += i\n",
    "    avg = sum/len(arg)\n",
    "    print(avg)\n",
    "    \n",
    "avg(2,4)"
   ]
  },
  {
   "cell_type": "code",
   "execution_count": null,
   "metadata": {},
   "outputs": [],
   "source": [
    "# 3. "
   ]
  }
 ],
 "metadata": {
  "kernelspec": {
   "display_name": "Python 3",
   "language": "python",
   "name": "python3"
  },
  "language_info": {
   "codemirror_mode": {
    "name": "ipython",
    "version": 3
   },
   "file_extension": ".py",
   "mimetype": "text/x-python",
   "name": "python",
   "nbconvert_exporter": "python",
   "pygments_lexer": "ipython3",
   "version": "3.7.4"
  }
 },
 "nbformat": 4,
 "nbformat_minor": 2
}
