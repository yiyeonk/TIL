{
 "cells": [
  {
   "cell_type": "markdown",
   "metadata": {},
   "source": [
    "# Day 1"
   ]
  },
  {
   "cell_type": "markdown",
   "metadata": {},
   "source": [
    "파이썬 : 매우 인간적인 언어\n",
    "    - 프로그래밍(언어:파이썬,...)->프로그램(application, app(앱))\n",
    "    - 프로그래밍? 우리가 생각하는 것을 컴퓨터에 지시하는 행위\n",
    "    - 유틸리티, gui, web, db, 데이터분석(파이썬에 추가적으로 패키지를 설치, 파이썬+pandas), iot\n",
    "\n",
    "리스트:[], 튜플:(), 딕셔너리,셋:{}\n",
    "변수 = 데이터    => 데이터를 변수에 저장해라\n",
    "a=1 # assign( 할당,  왼쪽<-오른쪽)\n"
   ]
  },
  {
   "cell_type": "markdown",
   "metadata": {},
   "source": [
    "**keyword**  \n",
    "print()  \n",
    "type()  \n",
    "float()  \n",
    "input()"
   ]
  },
  {
   "cell_type": "code",
   "execution_count": 2,
   "metadata": {},
   "outputs": [
    {
     "name": "stdout",
     "output_type": "stream",
     "text": [
      "(2, 1)\n"
     ]
    }
   ],
   "source": [
    "print(divmod(9, 4)) #9를 4로 나눈 몫과 나머지 => (2, 1)   ==  (몫, 나머지)\n",
    "#     함수(인수1, 인수2)"
   ]
  },
  {
   "cell_type": "code",
   "execution_count": 4,
   "metadata": {},
   "outputs": [
    {
     "name": "stdout",
     "output_type": "stream",
     "text": [
      "<class 'float'>\n",
      "2\n",
      "3.0\n",
      "안\t\t\t녕!\n",
      "반가워요\n",
      "\n",
      "잘있어요\n",
      "naver$kakao$samsung\n"
     ]
    }
   ],
   "source": [
    "print(type(3.14))\n",
    "print(int('2'))\n",
    "print(float(1+2))\n",
    "print(\"안\\t\\t\\t녕!\\n반가워요\\n\\n잘있어요\")  #\\n : new line\n",
    "print(\"naver\", \"kakao\", \"samsung\", sep=\"$\")"
   ]
  },
  {
   "cell_type": "code",
   "execution_count": 5,
   "metadata": {},
   "outputs": [],
   "source": [
    "#메모리에 있는 변수를 제거\n",
    "a = 1\n",
    "del a"
   ]
  },
  {
   "cell_type": "code",
   "execution_count": 8,
   "metadata": {},
   "outputs": [
    {
     "name": "stdout",
     "output_type": "stream",
     "text": [
      "None\n",
      "\n"
     ]
    }
   ],
   "source": [
    "# 빈 변수 생성\n",
    "b=None  #사과바구니 자체가 없음\n",
    "print(b)\n",
    "c=''  #b라는 이름의 사과바구니에 사과가 1개도 없음\n",
    "print(c)#''는 None이 아님"
   ]
  },
  {
   "cell_type": "code",
   "execution_count": 11,
   "metadata": {},
   "outputs": [
    {
     "name": "stdout",
     "output_type": "stream",
     "text": [
      "첫 번째 수 입력 : 1\n",
      "두 번째 수 입력 : 2\n",
      "덧셈 결과는  12\n",
      "첫 번째 수 입력 : 1\n",
      "두 번째 수 입력 : 2\n",
      "덧셈 결과는  3\n",
      "세 단어를 입력하세요:asd\n"
     ]
    },
    {
     "ename": "ValueError",
     "evalue": "not enough values to unpack (expected 3, got 1)",
     "output_type": "error",
     "traceback": [
      "\u001b[1;31m---------------------------------------------------------------------------\u001b[0m",
      "\u001b[1;31mValueError\u001b[0m                                Traceback (most recent call last)",
      "\u001b[1;32m<ipython-input-11-43b8cbd045fb>\u001b[0m in \u001b[0;36m<module>\u001b[1;34m\u001b[0m\n\u001b[0;32m      8\u001b[0m \u001b[0mprint\u001b[0m\u001b[1;33m(\u001b[0m\u001b[1;34m\"덧셈 결과는 \"\u001b[0m\u001b[1;33m,\u001b[0m \u001b[0mx\u001b[0m\u001b[1;33m+\u001b[0m\u001b[0my\u001b[0m\u001b[1;33m)\u001b[0m\u001b[1;33m\u001b[0m\u001b[1;33m\u001b[0m\u001b[0m\n\u001b[0;32m      9\u001b[0m \u001b[1;33m\u001b[0m\u001b[0m\n\u001b[1;32m---> 10\u001b[1;33m \u001b[0ma\u001b[0m\u001b[1;33m,\u001b[0m\u001b[0mb\u001b[0m\u001b[1;33m,\u001b[0m\u001b[0mc\u001b[0m\u001b[1;33m=\u001b[0m\u001b[0minput\u001b[0m\u001b[1;33m(\u001b[0m\u001b[1;34m\"세 단어를 입력하세요:\"\u001b[0m\u001b[1;33m)\u001b[0m\u001b[1;33m.\u001b[0m\u001b[0msplit\u001b[0m\u001b[1;33m(\u001b[0m\u001b[1;33m)\u001b[0m \u001b[1;31m# 공백으로 split => 3은 a, 2는 b에 전달\u001b[0m\u001b[1;33m\u001b[0m\u001b[1;33m\u001b[0m\u001b[0m\n\u001b[0m\u001b[0;32m     11\u001b[0m \u001b[0mprint\u001b[0m\u001b[1;33m(\u001b[0m\u001b[0ma\u001b[0m\u001b[1;33m)\u001b[0m\u001b[1;33m\u001b[0m\u001b[1;33m\u001b[0m\u001b[0m\n\u001b[0;32m     12\u001b[0m \u001b[0mprint\u001b[0m\u001b[1;33m(\u001b[0m\u001b[0mb\u001b[0m\u001b[1;33m)\u001b[0m\u001b[1;33m\u001b[0m\u001b[1;33m\u001b[0m\u001b[0m\n",
      "\u001b[1;31mValueError\u001b[0m: not enough values to unpack (expected 3, got 1)"
     ]
    }
   ],
   "source": [
    "#input함수로 입력받은 모든 데이터는 '문자'로 간주\n",
    "x=input(\"첫 번째 수 입력 : \")\n",
    "y=input(\"두 번째 수 입력 : \")\n",
    "print(\"덧셈 결과는 \", x+y)\n",
    "\n",
    "x=int(input(\"첫 번째 수 입력 : \"))   # 1-> '1' -> int('1') ->1\n",
    "y=int(input(\"두 번째 수 입력 : \"))\n",
    "print(\"덧셈 결과는 \", x+y)\n",
    "\n",
    "a,b,c=input(\"세 단어를 입력하세요:\").split() # 공백으로 split => 3은 a, 2는 b에 전달\n",
    "print(a)\n",
    "print(b)\n",
    "print(c)\n",
    "\n",
    "print(\"안 녕 하세 요\".split())\n"
   ]
  },
  {
   "cell_type": "code",
   "execution_count": 13,
   "metadata": {},
   "outputs": [
    {
     "name": "stdout",
     "output_type": "stream",
     "text": [
      "숫자 두 개 입력 : 1 2\n",
      "3\n"
     ]
    }
   ],
   "source": [
    "#mapping:사상  x -> f -> y\n",
    "#함수출력=map(함수, 함수입력)\n",
    "\n",
    "x1, x2= map(int,  input(\"숫자 두 개 입력 : \").split())   #['1', '2'] -> int함수 -> [1, 2]\n",
    "# #x1=1, x2=2가 저장됨\n",
    "print(x1+x2)"
   ]
  },
  {
   "cell_type": "code",
   "execution_count": 14,
   "metadata": {},
   "outputs": [
    {
     "name": "stdout",
     "output_type": "stream",
     "text": [
      "is\n"
     ]
    }
   ],
   "source": [
    "#인덱싱 : 변수에 저장된 문자열에 대해 위치를 지정하여 참조하는 행위\n",
    "\n",
    "x=\"life is too short\"\n",
    "\n",
    "print(len(x))  # 공백문자 포함 문자열 길이\n",
    "print(x[5:7])  # 위치(인덱스)는 0부터 시작, 범위 지정하여 슬라이싱[시작위치:끝위치+1]\n",
    "print(x[-3]) # '-'기호는 뒤에서부터 참조\n",
    "print(x[-5:]) # 끝위치를 지정하지 않으면, 문자열의 마지막까지 참조\n",
    "print(x[:4]) # 맨 앞에서부터 [3] 인덱스까지 추출\n",
    "print(x[:]) # 전체\n",
    "print(x[8:-3])  # '-3'위치는 포함 안됨\n",
    "print(x[-3]) #-기호는 뒤에서부터 참조\n",
    "\n",
    "# #offset:몇 칸을 건너뛸것인지, 양수(좌->우), 음수(우->좌)\n",
    "s=\"파이썬파이썬파이썬\"\n",
    "print(s[0],s[3],s[-3])\n",
    "print(s[::3])"
   ]
  },
  {
   "cell_type": "code",
   "execution_count": 17,
   "metadata": {},
   "outputs": [
    {
     "name": "stdout",
     "output_type": "stream",
     "text": [
      "I eat 2 eggs\n"
     ]
    }
   ],
   "source": [
    "x=2\n",
    "print(\"I eat %d eggs\" % x) #문자열 포매팅, %d(decimal)\n",
    "# %d: decimal, 10진수\n",
    "# %s: string, 문자\n",
    "# %f: float, 실수\n"
   ]
  },
  {
   "cell_type": "markdown",
   "metadata": {},
   "source": [
    "-------------------------------------------\n",
    "# Day 2"
   ]
  },
  {
   "cell_type": "markdown",
   "metadata": {},
   "source": [
    "**keyword**  \n",
    "replace()  \n",
    "bool()  \n",
    "formating  \n",
    "count()  \n",
    "find()  \n",
    "index()  \n",
    "join()  \n",
    "upper()  \n",
    "lower()  \n",
    "strip()  \n",
    "split()  \n",
    "l/rjust(), center()  \n",
    "str.maketrans()\n",
    "import random  \n",
    "list []\n",
    "append(), expend()  \n",
    "sort(), reverse(), insert()  \n",
    "del(), remove(), pop()"
   ]
  },
  {
   "cell_type": "code",
   "execution_count": 18,
   "metadata": {},
   "outputs": [
    {
     "name": "stdout",
     "output_type": "stream",
     "text": [
      "01012345678\n"
     ]
    }
   ],
   "source": [
    "#replace함수 : 문자(열) 치환\n",
    "\n",
    "tel=\"010-1234-5678\"\n",
    "print(tel.replace(\"-\",\"\"))"
   ]
  },
  {
   "cell_type": "code",
   "execution_count": 19,
   "metadata": {},
   "outputs": [],
   "source": [
    "# print(1==1.0) #정수와 실수라는 점에서 차이, 값은 같습니다. 그래서 == 비교하면 True\n",
    "# # print(1 is 1.0) #is는 두 객체가 같은지 비교. 1은 정수객체, 1.0은 실수객체. 그래서 두 객체는 다르므로 False\n",
    "# # # 홍길동나이==임꺽정나이 (나이를 비교)\n",
    "# # # 홍길동 is 임꺽정 (사람을 비교)"
   ]
  },
  {
   "cell_type": "code",
   "execution_count": 20,
   "metadata": {},
   "outputs": [
    {
     "name": "stdout",
     "output_type": "stream",
     "text": [
      "True\n",
      "False\n",
      "True\n",
      "True\n",
      "False\n"
     ]
    }
   ],
   "source": [
    "#논리 연산자 : and(모두 참 -> 참), or(하나 이상 참 -> 참), not(참->거짓,거짓->참)\n",
    "#0:False, 1:True, 0이 아닌 모든 수가 True\n",
    "\n",
    "print(bool(1))\n",
    "print(bool(0))\n",
    "print(bool(0.5))\n",
    "print(bool('test')) # 문자열도  True\n",
    "print(bool('')) #빈문자열은 False"
   ]
  },
  {
   "cell_type": "code",
   "execution_count": 21,
   "metadata": {},
   "outputs": [
    {
     "name": "stdout",
     "output_type": "stream",
     "text": [
      "        hi\n",
      "hello        hi\n",
      "hi        hello\n",
      "3.1416\n",
      "    3.1416\n"
     ]
    }
   ],
   "source": [
    "print(\"%10s\" % \"hi\")\n",
    "print(\"hello%10s\" % \"hi\")\n",
    "\n",
    "print(\"%-10shello\" % \"hi\")\n",
    "\n",
    "print(\"%.4f\" % 3.141592) #소수 이하 5째 자리에서 반올림 -> 4째 자리까지 표현\n",
    "print(\"%10.4f\" % 3.141592) #10자리를 확보한 다음 출력(우측 맞춤)"
   ]
  },
  {
   "cell_type": "code",
   "execution_count": 22,
   "metadata": {},
   "outputs": [
    {
     "name": "stdout",
     "output_type": "stream",
     "text": [
      "I eat 3 apples\n",
      "I eat two apples\n",
      "I eat 3 apples\n",
      "I eat two apples\n",
      "I ate 3 eggs. so I was sick for three days.\n",
      "I ate three eggs. so I was sick for 3 days.\n",
      "I ate 5 eggs. so I was sick for 3 days.\n",
      "I ate 5 eggs. so I was sick for 3 days.\n",
      "hi\n",
      "hi--------\n",
      "--------hi\n",
      "----hi----\n",
      "----hi----\n",
      "3.1416\n",
      "    3.1416\n"
     ]
    }
   ],
   "source": [
    "# 포맷팅\n",
    "num=3\n",
    "s=\"two\"\n",
    "day=\"three\"\n",
    "print(\"I eat %d apples\" % num)\n",
    "print(\"I eat %s apples\" % s)\n",
    "\n",
    "print(\"I eat {0} apples\".format(num))\n",
    "print(\"I eat {0} apples\".format(s))\n",
    "\n",
    "print(\"I ate {0} eggs. so I was sick for {1} days.\".format(num, day))\n",
    "print(\"I ate {1} eggs. so I was sick for {0} days.\".format(num, day))\n",
    "\n",
    "print(\"I ate {num} eggs. so I was sick for {day} days.\".format(num=5, day=3))\n",
    "print(\"I ate {0} eggs. so I was sick for {day} days.\".format(5, day=3))\n",
    "\n",
    "print(\"{0}\".format(\"hi\"))\n",
    "print(\"{0:-<10}\".format(\"hi\")) #10자리 확보 후 왼쪽 정렬\n",
    "print(\"{0:->10}\".format(\"hi\")) #10자리 확보 후 오른쪽 정렬\n",
    "print(\"{0:-^10}\".format(\"hi\")) #10자리 확보 후 가운데 정렬\n",
    "print(\"{0:-^10}\".format(\"hi\")) #10자리 확보 후 가운데 정렬\n",
    "\n",
    "print(\"{0:.4f}\".format(3.141592))\n",
    "print(\"{0:10.4f}\".format(3.141592))"
   ]
  },
  {
   "cell_type": "code",
   "execution_count": 23,
   "metadata": {},
   "outputs": [
    {
     "name": "stdout",
     "output_type": "stream",
     "text": [
      "2\n"
     ]
    }
   ],
   "source": [
    "a=\"hello\"\n",
    "print(a.count('l'))"
   ]
  },
  {
   "cell_type": "code",
   "execution_count": 24,
   "metadata": {},
   "outputs": [
    {
     "name": "stdout",
     "output_type": "stream",
     "text": [
      "2\n",
      "-1\n",
      "2\n"
     ]
    }
   ],
   "source": [
    "#위치 확인\n",
    "print(a.find('l')) #위치:2, 여러개 있는 경우에는 맨 처음 나온 위치가 출력\n",
    "print(a.find('x')) #-1:문자가 없는 경우\n",
    "\n",
    "print(a.index('l'))\n",
    "# print(a.index('x')) #에러발생 : 문자가 없는 경우"
   ]
  },
  {
   "cell_type": "code",
   "execution_count": 25,
   "metadata": {},
   "outputs": [
    {
     "name": "stdout",
     "output_type": "stream",
     "text": [
      "a,b,c,d\n",
      "a,b,c,d\n",
      "abcd\n"
     ]
    }
   ],
   "source": [
    "#문자열 삽입\n",
    "print(\",\".join(\"abcd\"))\n",
    "print(\",\".join(['a','b','c','d']))\n",
    "#리스트에 저장되어 있는 각각의 문자들이 컴마(,)와 결합하여 하나의 문자열(\"a,b,c,d\")이 됨\n",
    "print(\"\".join(['a','b','c','d']))#\"abcd\""
   ]
  },
  {
   "cell_type": "code",
   "execution_count": 26,
   "metadata": {},
   "outputs": [
    {
     "name": "stdout",
     "output_type": "stream",
     "text": [
      "HI\n",
      "HI\n",
      "hi\n"
     ]
    }
   ],
   "source": [
    "# 대소문자 변환\n",
    "\n",
    "a=\"hi\"\n",
    "print(a.upper()) \n",
    "a=a.upper()\n",
    "print(a)\n",
    "\n",
    "a=a.lower()\n",
    "print(a)"
   ]
  },
  {
   "cell_type": "code",
   "execution_count": 32,
   "metadata": {},
   "outputs": [
    {
     "name": "stdout",
     "output_type": "stream",
     "text": [
      "대한민국\n",
      "대한민국\n",
      "대한민국\n",
      "!\"#$%&'()*+,-./:;<=>?@[\\]^_`{|}~\n",
      "!\"#$%&'()*+,-./:;<=>?@[\\]^_`{|}~\n"
     ]
    }
   ],
   "source": [
    "# 특정 문자 제거 : strinp(\"큰따옴표 안에 제거대상 문자를 나열\")\n",
    "\n",
    "n1=\"  대한민국\"\n",
    "n2=\"대한민국  \"\n",
    "n3=\"  대한민국  \"\n",
    "print(n1.lstrip()) # left\n",
    "print(n2.rstrip()) # right\n",
    "print(n3.strip()) # both\n",
    "\n",
    "import string\n",
    "# print(string.punctuation)\n",
    "# # punctuation(구두점) :   !\"#$%&'()*+,-./:;<=>?@[\\]^_`{|}~\n",
    "\n",
    "print(str.strip(string.punctuation))\n",
    "print(str.strip(string.punctuation+\" \"))"
   ]
  },
  {
   "cell_type": "code",
   "execution_count": 29,
   "metadata": {},
   "outputs": [
    {
     "name": "stdout",
     "output_type": "stream",
     "text": [
      "Your leg is too short\n",
      "['Life', 'is', 'too', 'short']\n",
      "['Life$i', '$too$', 'hort']\n",
      "['1', '2', '3']\n"
     ]
    }
   ],
   "source": [
    "s=\"Life is too short\"\n",
    "#replace: 문자(열)을 치환\n",
    "print(s.replace(\"Life\", \"Your leg\"))\n",
    "print(s.split()) #공백문자로 분리\n",
    "\n",
    "s=\"Life$is$too$short\"\n",
    "print(s.split('s')) #method(=function)\n",
    "print('1,2,3'.split(','))"
   ]
  },
  {
   "cell_type": "code",
   "execution_count": 30,
   "metadata": {},
   "outputs": [
    {
     "name": "stdout",
     "output_type": "stream",
     "text": [
      "1ppl2\n"
     ]
    }
   ],
   "source": [
    "# 문자 변환\n",
    "# str.maketrans('바꿀문자', '새문자') 작성하여 변환테이블(t) 생성\n",
    "t=str.maketrans('aeiou', '12345')\n",
    "print('apple'.translate(t))#apple 문자열을 t변환테이블을 참조하여 변환하세요"
   ]
  },
  {
   "cell_type": "code",
   "execution_count": 33,
   "metadata": {},
   "outputs": [
    {
     "name": "stdout",
     "output_type": "stream",
     "text": [
      "python    \n",
      "    python\n",
      "  python  \n"
     ]
    }
   ],
   "source": [
    "# 문자 정렬\n",
    "print('python'.ljust(10)) #10자리 확보 후 좌측 정렬\n",
    "print('python'.rjust(10)) #10자리 확보 후 우측 정렬\n",
    "print('python'.center(10)) #10자리 확보 후 가운데 정렬"
   ]
  },
  {
   "cell_type": "code",
   "execution_count": 34,
   "metadata": {},
   "outputs": [
    {
     "name": "stdout",
     "output_type": "stream",
     "text": [
      "00000hello\n",
      "0000000345\n",
      "1\n",
      "1\n",
      "12\n",
      "11\n",
      "12\n",
      "11\n"
     ]
    }
   ],
   "source": [
    "#패딩(padding:특정 값으로 빈자리를 채우는 것)\n",
    "\n",
    "print(\"hello\".zfill(10)) #zero fill\n",
    "print(\"345\".zfill(10)) #zero fill\n",
    "\n",
    "print(\"apple pineapple\".find('p'))\n",
    "print(\"apple pineapple\".find('pp'))\n",
    "\n",
    "print(\"apple pineapple\".rfind('p'))\n",
    "print(\"apple pineapple\".rfind('pp'))\n",
    "\n",
    "print(\"apple pineapple\".rindex('p'))\n",
    "print(\"apple pineapple\".rindex('pp'))"
   ]
  },
  {
   "cell_type": "code",
   "execution_count": 36,
   "metadata": {},
   "outputs": [
    {
     "name": "stdout",
     "output_type": "stream",
     "text": [
      "hi\n",
      "0.2908791067897867\n",
      "2\n"
     ]
    }
   ],
   "source": [
    "#함수:우리 프로그램에 기본적으로 적재가 되는 함수(print),\n",
    "#별도로 적재를 해야 하는 함수(import 한 다음에 사용)\n",
    "import random\n",
    "\n",
    "print(\"hi\") #기본적으로 적재가 되는 함수(내장함수)\n",
    "print(random.random()) # 난수 발생, 별도로 적재를 해야 하는 함수(외장함수)\n",
    "#     모듈명.함수명()\n",
    "print(random.randint(1,10))"
   ]
  },
  {
   "cell_type": "code",
   "execution_count": 37,
   "metadata": {},
   "outputs": [
    {
     "name": "stdout",
     "output_type": "stream",
     "text": [
      "['life', 'is', ['too', 'short']]\n",
      "is\n"
     ]
    }
   ],
   "source": [
    "# 리스트?\n",
    "# 리스트에 다양한 자료형(정수,실수,불린,문자,을 저장할 수 있음\n",
    "# 리스트에는 리스트를 요소값으로 할 수 있음\n",
    "a=[1,2,['life', 'is', ['too','short']]] #a 변수에는 요소가 몇 개?3(0번~2번)\n",
    "print(a[2]) #['life', 'is']\n",
    "print(a[2][1]) #'is'"
   ]
  },
  {
   "cell_type": "code",
   "execution_count": 38,
   "metadata": {},
   "outputs": [],
   "source": [
    "b=[] #빈 리스트 생성\n",
    "b=list() # 빈 리스트 생성"
   ]
  },
  {
   "cell_type": "code",
   "execution_count": 39,
   "metadata": {},
   "outputs": [
    {
     "name": "stdout",
     "output_type": "stream",
     "text": [
      "[0, 1, 2, 3, 4]\n",
      "[10, 9, 8, 7, 6, 5, 4, 3, 2, 1]\n"
     ]
    }
   ],
   "source": [
    "print(list(range(5))) #0~5-1까지 숫자를 생성\n",
    "print(list(range(10,0,-1)))"
   ]
  },
  {
   "cell_type": "code",
   "execution_count": 40,
   "metadata": {},
   "outputs": [
    {
     "name": "stdout",
     "output_type": "stream",
     "text": [
      "[1, 2]\n"
     ]
    }
   ],
   "source": [
    "#str 함수 : 정수나 실수를 문자열로 변환해주는 함수\n",
    "a=[1,2,3]\n",
    "del a[2]\n",
    "print(a)"
   ]
  },
  {
   "cell_type": "code",
   "execution_count": 41,
   "metadata": {},
   "outputs": [],
   "source": [
    "# a.append([5,6,7]) #리스트가 추가\n",
    "# a.extend([5,6,7]) #확장 a=a+[5,6,7]"
   ]
  },
  {
   "cell_type": "code",
   "execution_count": 42,
   "metadata": {},
   "outputs": [
    {
     "name": "stdout",
     "output_type": "stream",
     "text": [
      "[1, 3, 5, 7]\n"
     ]
    }
   ],
   "source": [
    "#정렬:정해진 순서(내림/오름차순(0->9, ㄱ->ㅎ, a->z)로 데이터를 나열\n",
    "\n",
    "a=[3,7,5,1]\n",
    "a.sort() #a에 저장된 자료를 정렬(오름)하고 결과를 a에 저장\n",
    "# # print(a.sort()) #None, 이와같이 출력하면 안됨\n",
    "print(a)\n",
    "\n",
    "#내림차순\n",
    "a=[3,7,5,1]\n",
    "a.sort() #a에 저장된 자료를 정렬(오름)하고 결과를 a에 저장\n",
    "a.reverse()\n",
    "print(a)"
   ]
  },
  {
   "cell_type": "code",
   "execution_count": 43,
   "metadata": {},
   "outputs": [
    {
     "name": "stdout",
     "output_type": "stream",
     "text": [
      "[7, 4, 8, 9]\n"
     ]
    }
   ],
   "source": [
    "#리스트의 특정 위치에 데이터 추가 : insert\n",
    "a=[7,8,9]\n",
    "#7과8사이에 4추가\n",
    "a.insert(1,4)\n",
    "print(a)"
   ]
  },
  {
   "cell_type": "code",
   "execution_count": 45,
   "metadata": {},
   "outputs": [
    {
     "name": "stdout",
     "output_type": "stream",
     "text": [
      "[10, 30]\n",
      "[10, 20, 10, 20]\n",
      "[10, 20]\n",
      "[10]\n",
      "[]\n"
     ]
    }
   ],
   "source": [
    "#리스트의 요소를 제거 : del, remove, pop\n",
    "#del:특정 위치에 저장된 값을 제거\n",
    "\n",
    "a=[10,20,30]\n",
    "del a[1]\n",
    "print(a)\n",
    "\n",
    "#remove : 특정 값을 제거\n",
    "a=[10,20,30,10,20,30]\n",
    "a.remove(30) #첫번째 30만 제거\n",
    "a.remove(30) #두번째 30 제거\n",
    "print(a)\n",
    "\n",
    "#pop:가장 마지막 위치에 있는 데이터를 제거\n",
    "a=[10,20,30]\n",
    "a.pop() #가장 마지막 위치에 있는 데이터를 제거\n",
    "print(a)\n",
    "a.pop()\n",
    "print(a)\n",
    "a.pop()\n",
    "print(a)"
   ]
  },
  {
   "cell_type": "markdown",
   "metadata": {},
   "source": [
    "----------------------------------------------------\n",
    "\n",
    "# Day 3"
   ]
  },
  {
   "cell_type": "markdown",
   "metadata": {},
   "source": [
    "**keyword**  \n",
    "튜플  \n",
    "시퀀스  \n",
    "len()  \n",
    "slice()  \n",
    "딕셔너리  "
   ]
  },
  {
   "cell_type": "code",
   "execution_count": 102,
   "metadata": {},
   "outputs": [
    {
     "name": "stdout",
     "output_type": "stream",
     "text": [
      "(1, 2, 3)\n",
      "<class 'tuple'>\n",
      "3\n",
      "(2, 3)\n"
     ]
    }
   ],
   "source": [
    "a=[10,20,30]\n",
    "# a.pop() #가장 마지막 위치에 있는 데이터를 제거\n",
    "\n",
    "# 튜플, 시퀀스?, 딕셔너리\n",
    "\n",
    "#튜플은 리스트와 거의 동일\n",
    "#차이점?튜플은 값을 변경(생성, 삭제, 수정)할 수 없음, ()사용\n",
    "t1=(1,2,3) #튜플\n",
    "print(t1)\n",
    "print(type(t1))\n",
    "#del t1[1] #참조할때는 [](대괄호) 사용,  index 1의 값 제거, 에러발생!\n",
    "print(t1[2]) #인덱싱\n",
    "print(t1[1:])#슬라이싱"
   ]
  },
  {
   "cell_type": "code",
   "execution_count": 47,
   "metadata": {},
   "outputs": [
    {
     "name": "stdout",
     "output_type": "stream",
     "text": [
      "(1, 2, 3, 4, 5, 6, 7, 8, 9)\n",
      "[1, 2, 3, 4, 5, 6, 7, 8, 9]\n",
      "[1, 2, 3, 4, 5, 6, 7, 8, 9]\n",
      "[1, 2, 3, 4, 50, 6, 7, 8, 9]\n"
     ]
    }
   ],
   "source": [
    "# 튜플 -> 리스트 변환\n",
    "# 리스트 -> 튜플 변환\n",
    "\n",
    "x=tuple(range(1,10))\n",
    "print(x)\n",
    "\n",
    "# x에 저장된 5->50으로 변경하고 싶은 경우\n",
    "#x[4]=50 에러...\n",
    "#튜플->리스트->요소값 변경\n",
    "print(list(x))\n",
    "tempx=list(x)\n",
    "print(tempx)\n",
    "tempx[4]=50\n",
    "print(tempx)"
   ]
  },
  {
   "cell_type": "code",
   "execution_count": 48,
   "metadata": {},
   "outputs": [],
   "source": [
    "s=\"hello\"\n",
    "print(list(s))\n",
    "#리스트에 문자열을 주면 문자 리스트가 만들어 짐\n",
    "print(tuple(s))\n",
    "#튜플에 문자열을 주면 문자 튜플이 만들어 짐"
   ]
  },
  {
   "cell_type": "code",
   "execution_count": 49,
   "metadata": {},
   "outputs": [
    {
     "name": "stdout",
     "output_type": "stream",
     "text": [
      "False\n",
      "True\n",
      "5가 있나요? True\n",
      "5가 없나요? False\n",
      "hello 문자열에 h문자가 있나요? True\n"
     ]
    }
   ],
   "source": [
    "#시퀀스 자료형 : 연속적으로 저장\n",
    "# #리스트, 튜플, 문자열, range, bytes, bytearray 등은 모두 다 값들이 연속적으로 저장되어 있는 시퀀스 자료형\n",
    "# #[1,2,3] (1,2,3) \"hello\" range(3)\n",
    "#\n",
    "#\n",
    "# #시퀀스 자료형(리스트, 튜플, 문자열, range, bytes, bytearray)의 공통 기능\n",
    "#\n",
    "# #데이터 존재 유무 확인\n",
    "# #작성방법 : 찾고자하는값 in 시퀀스객체\n",
    "\n",
    "a=[0,10,...,90]\n",
    "a=list(range(0,91, 10))\n",
    "\n",
    "#a에 30이 없는지 확인?\n",
    "print(30 not in a) # False\n",
    "print(45 not in a) # True\n",
    "\n",
    "print(\"5가 있나요?\", 5 in (1,2,3,4,5))\n",
    "print(\"5가 없나요?\", 5 not in (1,2,3,4,5))\n",
    "\n",
    "print(\"hello 문자열에 h문자가 있나요?\", 'h' in \"hello\")"
   ]
  },
  {
   "cell_type": "code",
   "execution_count": 50,
   "metadata": {},
   "outputs": [
    {
     "name": "stdout",
     "output_type": "stream",
     "text": [
      "[1, 2, 3, 4]\n",
      "[0, 1, 2, 3, 4, 5]\n",
      "hihello\n"
     ]
    }
   ],
   "source": [
    "# 시퀀스 객체 연결(range는 불가능)\n",
    "a=[1,2]\n",
    "b=[3,4]\n",
    "print(a+b)\n",
    "\n",
    "#print(range(0,4)+range(4,6)) 에러\n",
    "#range객체들을 연결할 수 없으므로, range->list로 변경한 다음 연결\n",
    "print(list(range(0,4))+list(range(4,6)))\n",
    "print(\"hi\"+\"hello\")"
   ]
  },
  {
   "cell_type": "code",
   "execution_count": 51,
   "metadata": {},
   "outputs": [
    {
     "name": "stdout",
     "output_type": "stream",
     "text": [
      "hi100\n",
      "hi100.111\n",
      "[1, 2, 3, 1, 2, 3, 1, 2, 3, 1, 2, 3, 1, 2, 3]\n",
      "[1, 2, 3, 1, 2, 3, 1, 2, 3, 1, 2, 3, 1, 2, 3]\n",
      "[0, 1, 2, 3, 4, 0, 1, 2, 3, 4, 0, 1, 2, 3, 4]\n",
      "hellohellohellohellohello\n",
      "ㅋㅋㅋㅋㅋㅋㅋㅋㅋㅋㅋㅋㅋㅋㅋㅋㅋㅋㅋㅋㅋㅋㅋㅋㅋㅋㅋㅋㅋㅋㅋㅋㅋㅋㅋㅋㅋㅋㅋㅋㅋㅋㅋㅋㅋㅋㅋㅋㅋㅋㅋㅋㅋㅋㅋㅋㅋㅋㅋㅋㅋㅋㅋㅋㅋㅋㅋㅋㅋㅋㅋㅋㅋㅋㅋㅋㅋㅋㅋㅋㅋㅋㅋㅋㅋㅋㅋㅋㅋㅋㅋㅋㅋㅋㅋㅋㅋㅋㅋㅋ\n"
     ]
    }
   ],
   "source": [
    "#문자열 연결 : +\n",
    "#문자열과 숫자 연결안됨\n",
    "#print(\"hi\"+100) #에러 발생\n",
    "\n",
    "#문자열과 숫자 연결 => 숫자(정수,실수) -> 문자(열)로 변경을 먼저...\n",
    "print(\"hi\" + str(100))\n",
    "print(\"hi\" + str(100.111))\n",
    "\n",
    "#시퀀스 반복(*), 단, range는 *연산자 사용 불가\n",
    "#시퀀스객체 * 정수 or  정수 * 시퀀스객체\n",
    "print([1,2,3] * 5)\n",
    "print(5*[1,2,3])\n",
    "\n",
    "#단, range는 *연산자 사용 불가\n",
    "#print(range(0,5,1)*3)\n",
    "\n",
    "#range 객체를 튜플 또는 리스트로 변경한 다음 반복\n",
    "print(list(range(0,5,1))*3)\n",
    "\n",
    "print(\"hello\"*5)"
   ]
  },
  {
   "cell_type": "code",
   "execution_count": 52,
   "metadata": {},
   "outputs": [
    {
     "name": "stdout",
     "output_type": "stream",
     "text": [
      "4\n",
      "4\n",
      "5\n",
      "5\n",
      "7\n",
      "15\n"
     ]
    }
   ],
   "source": [
    "#len(시퀀스객체) : 시퀀스 데이터(요소) 개수\n",
    "a=[10,20,30,40]\n",
    "print(len(a))\n",
    "b=(1,2,3,4)\n",
    "print(len(b))\n",
    "print(len(range(1,10,2)))\n",
    "print(len(\"hello\"))\n",
    "print(len(\"h'el'lo\"))\n",
    "\n",
    "s=\"안녕하세요\"\n",
    "print(len(s.encode('utf-8')))\n",
    "# #utf-8에서는 한글 한 글자가 3byte, 3*5 = 15 바이트"
   ]
  },
  {
   "cell_type": "code",
   "execution_count": 53,
   "metadata": {},
   "outputs": [
    {
     "ename": "IndentationError",
     "evalue": "unexpected indent (<ipython-input-53-f5881f713681>, line 27)",
     "output_type": "error",
     "traceback": [
      "\u001b[1;36m  File \u001b[1;32m\"<ipython-input-53-f5881f713681>\"\u001b[1;36m, line \u001b[1;32m27\u001b[0m\n\u001b[1;33m    range=[5,6,7,8,9,10,11,12,13,...,19]\u001b[0m\n\u001b[1;37m    ^\u001b[0m\n\u001b[1;31mIndentationError\u001b[0m\u001b[1;31m:\u001b[0m unexpected indent\n"
     ]
    }
   ],
   "source": [
    "#시퀀스 객체는 대괄호[] 기호로 참조\n",
    "a=[5,6,7,8,9]\n",
    "print(a[3])\n",
    "print(a[-2])\n",
    "\n",
    "#del 시퀀스객체[인덱스] : 튜플, range, 문자열도 삭제 안됨\n",
    "b=[10,20,30,40]\n",
    "del b[1]\n",
    "print(b)\n",
    "\n",
    "시퀀스객체[시작인덱스:끝인덱스]\n",
    "a=[10,20,30,40]\n",
    "print(a[0:3])\n",
    "print(a[0:0])\n",
    "print(a[0:1])\n",
    "print(a[1:-1:1])\n",
    "print(a[3:1:-1])\n",
    "\n",
    "print(a[0:len(a)]) #a[0:4]=a[0]~a[3]\n",
    "print(a[:3:2]) #a[0]~a[2], 2칸씩 건너뛰기 -> a[0], a[2] 참조\n",
    "\n",
    "#slice 객체를 이용하여 slicing\n",
    "print(range(20)[slice(3,9,2)])\n",
    "#range(20): range(20)객체[]\n",
    "\n",
    "print(list(range(5,20)[slice(3,9,2)]))\n",
    "       range=[5,6,7,8,9,10,11,12,13,...,19]"
   ]
  },
  {
   "cell_type": "code",
   "execution_count": 54,
   "metadata": {},
   "outputs": [
    {
     "name": "stdout",
     "output_type": "stream",
     "text": [
      "{'아이디': '홍길동', '레벨': 10, '체력': 100, '마나': 20, '공격력': 200, '방어력': 50}\n",
      "{'아이디': ['홍길동', '이순신', '임꺽정'], '레벨': 10, '체력': 100, '마나': 20, '공격력': 200, '방어력': 50}\n",
      "{}\n",
      "{}\n"
     ]
    }
   ],
   "source": [
    "#IT(프로그램 개발자) 직무 유형 : SI(시스템통합), SM(시스템유지보수)\n",
    "\n",
    "\n",
    "#딕셔너리(사전):단어-의미 구조와 유사하게 이름=홍길동, 생일=20200104 등과 같은 형식으로 표현\n",
    "#                          딕셔너리? 키(KEY)와 값(VALUE)의 쌍으로 표현\n",
    "#                    표현 예)딕셔너리={키:값, 키:값, ...}\n",
    "#딕셔너리는 시퀀스 객체가 아님. 데이터 참조 방법이 다름\n",
    "#키는 변하지 않는 값(상수), 값에는 변하는 값을 표현\n",
    "#상수:문자상수(따옴표로 묶어서), 숫자상수(1,2,3,4,...)\n",
    "\n",
    "d={'name':'kim', 'addr':'seoul', 'age':25, 'nn':['별명1', '별명2']}\n",
    "#{키:값,...}, 키는 작은(큰)따옴표로 묶어서 표현, 값은 수치는 그대로, 문자는 작은(큰)따옴표로\n",
    "\n",
    "\n",
    "#딕셔너리 : 연관 데이터를 저장하기 위한 용도의 자료형\n",
    "#ex) 게임 캐릭터 정보를 딕셔너리로 표현\n",
    "# {'아이디':'홍길동', '레벨':10, '체력':100, '마나':20, '공격력':200, '방어력':50, ...}\n",
    "#딕셔너리변수명={키1:값1, 키2:값2,...}\n",
    "\n",
    "\n",
    "dic={'아이디':'홍길동', '레벨':10, '체력':100, '마나':20, '공격력':200, '방어력':50}\n",
    "print(dic)\n",
    "\n",
    "#키가 중복되면, 마지막 키와 값만 저장\n",
    "dic={'아이디':'홍길동', '레벨':10, '체력':100, '마나':20, '공격력':200, '방어력':50, '아이디':'임꺽정'}\n",
    "dic={'아이디':['홍길동', '이순신', '임꺽정'], '레벨':10, '체력':100, '마나':20, '공격력':200, '방어력':50}\n",
    "\n",
    "print(dic)\n",
    "\n",
    "#키에는 딕셔너리, 리스트 등 자료구조가 올 수 없음\n",
    "# dic={[10,20]:30}\n",
    "# print(dic) #에러\n",
    "\n",
    "#빈 딕셔너리 생성\n",
    "a= {}\n",
    "print(a)\n",
    "b=dict()\n",
    "print(b)"
   ]
  },
  {
   "cell_type": "code",
   "execution_count": 55,
   "metadata": {},
   "outputs": [
    {
     "name": "stdout",
     "output_type": "stream",
     "text": [
      "{'아이디': '홍길동', '레벨': 10, '체력': 100, '마나': 20, '공격력': 200, '방어력': 50}\n",
      "{'아이디': '홍길동', '레벨': 10, '체력': 100, '마나': 20, '공격력': 200, '방어력': 50}\n",
      "{'아이디': '홍길동', '레벨': 10, '체력': 100, '마나': 20, '공격력': 200, '방어력': 50}\n",
      "{'아이디': '홍길동', '레벨': 10, '체력': 100, '마나': 20, '공격력': 200, '방어력': 50}\n",
      "{'아이디': '홍길동', '레벨': 10, '체력': 100, '마나': 20, '공격력': 200, '방어력': 50}\n"
     ]
    }
   ],
   "source": [
    "\n",
    "dic={'아이디':'홍길동', '레벨':10, '체력':100, '마나':20, '공격력':200, '방어력':50}\n",
    "c1=dict(아이디='홍길동',레벨=10, 체력=100, 마나=20, 공격력=200, 방어력=50) #올바른 문법\n",
    "#한글 변수도 가능\n",
    "#c=dict('아이디'='홍길동',레벨=10, 체력=100, 마나=20, 공격력=200, 방어력=50) 오류\n",
    "c2=dict(zip(['아이디','레벨','체력','마나','공격력','방어력'],['홍길동',10,100,20,200,50])) #올바른 문법\n",
    "#dict(zip([키리스트], [값리스트]))\n",
    "print(dic)\n",
    "print(c1)\n",
    "print(c2)\n",
    "#print(dict(zip(['a','b'],[1,2])))#zip 객체를 dict로 변환\n",
    "\n",
    "#리스트 내부에 (키, 값) 형식의 튜플로 표현\n",
    "c3=dict([('아이디','홍길동'),('레벨',10), ('체력',100), ('마나',20), ('공격력',200),('방어력',50)])\n",
    "print(c3)\n",
    "#dict([(튜플1),(튜플2),...])\n",
    "\n",
    "#중괄호로 표현\n",
    "c4=dict({'아이디':'홍길동','레벨':10, '체력':100, '마나':20, '공격력':200,'방어력':50})\n",
    "print(c4)"
   ]
  },
  {
   "cell_type": "code",
   "execution_count": 56,
   "metadata": {},
   "outputs": [
    {
     "name": "stdout",
     "output_type": "stream",
     "text": [
      "{'nn': 'bear'}\n",
      "{'nn': 'bear', 'addr': 'seoul', 100: 300}\n",
      "{'nn': 'bear', 'addr': 'seoul', 100: 300, 'hobby': ['a', 'b', 'c']}\n",
      "삭제 후 :  {'nn': 'bear', 'addr': 'seoul', 'hobby': ['a', 'b', 'c']}\n"
     ]
    }
   ],
   "source": [
    "\n",
    "#딕셔너리 데이터 추가/삭제\n",
    "a={'nn':'bear'}\n",
    "print(a)\n",
    "#딕셔너리 a에 데이터 추가\n",
    "a['addr']='seoul'\n",
    "a[100]=300\n",
    "#딕셔너리변수명[키이름]=값\n",
    "print(a)\n",
    "a['hobby']=['a','b','c']\n",
    "\n",
    "print(a) #{'nn': 'bear', 'addr': 'seoul', 100: 300, 'hobby': ['a', 'b', 'c']}\n",
    "#del a[2] 에러\n",
    "del a[100]\n",
    "print(\"삭제 후 : \", a)\n",
    "\n",
    "#del 딕셔너리변수명[키] => 키와 값을 모두 제거\n",
    "\n",
    "#{홍길동:프로그래밍, 임꺽정:분석, 이순신:딥러닝}\n",
    "\n",
    "# 이름=[홍길동, 임꺽정, 이순신]\n",
    "# 취미=[프로그래밍, 분석, 딥러닝]\n",
    "# print(이름[0])\n",
    "# print(취미[0])\n",
    "\n",
    "#딕셔너리 활용 -> json 파일 포맷(웹)"
   ]
  },
  {
   "cell_type": "code",
   "execution_count": 57,
   "metadata": {},
   "outputs": [
    {
     "name": "stdout",
     "output_type": "stream",
     "text": [
      "{'아이디': '홍길동', '레벨': 10, '체력': 100, '마나': 20, '공격력': 200, '방어력': 50}\n",
      "dict_keys(['아이디', '레벨', '체력', '마나', '공격력', '방어력'])\n",
      "dict_values(['홍길동', 10, 100, 20, 200, 50])\n",
      "dict_items([('아이디', '홍길동'), ('레벨', 10), ('체력', 100), ('마나', 20), ('공격력', 200), ('방어력', 50)])\n",
      "==================================================\n",
      "dict_keys(['아이디', '레벨', '체력', '마나', '공격력', '방어력'])\n",
      "['아이디', '레벨', '체력', '마나', '공격력', '방어력']\n",
      "{'아이디': '홍길동', '레벨': 10, '체력': 100, '마나': 20, '공격력': 200, '방어력': 50, '저항력': 100}\n",
      "20\n",
      "False\n",
      "True\n",
      "7\n"
     ]
    }
   ],
   "source": [
    "\n",
    "dic={'아이디':'홍길동', '레벨':10, '체력':100, '마나':20, '공격력':200, '방어력':50}\n",
    "print(dic)\n",
    "print(dic.keys())#키만 추출\n",
    "print(dic.values())#값만 추출\n",
    "#키와 값을 추출\n",
    "print(dic.items())\n",
    "\n",
    "print(\"=\"*50)\n",
    "mykey=dic.keys()\n",
    "print(mykey)\n",
    "#print(mykey[0])\n",
    "listmykey=list(mykey)\n",
    "print(listmykey)\n",
    "\n",
    "#mykey=dict_keys(리스트객체)\n",
    "\n",
    "\n",
    "dic={'아이디':'홍길동', '레벨':10, '체력':100, '마나':20, '공격력':200, '방어력':50}\n",
    "dic['저항력']=100\n",
    "print(dic)\n",
    "print(dic['마나'])\n",
    "\n",
    "#print(dic['민첩성']) 없는 키를 참조하려고 하면 에러 발생\n",
    "#딕셔너리에 키가 있는지 확인?\n",
    "#print(dic.keys())\n",
    "print('민첩성' in dic) #not in\n",
    "print('마나' in dic) #not in\n",
    "\n",
    "print(len(dic))\n"
   ]
  },
  {
   "cell_type": "markdown",
   "metadata": {},
   "source": [
    "--------------------------------------------------------------------------\n",
    "# Day4"
   ]
  },
  {
   "cell_type": "markdown",
   "metadata": {},
   "source": [
    "**keyword**  \n",
    "max(), min(), sum()  \n",
    "set  \n",
    "update()  \n",
    "합집합, 교집합  \n",
    "while, if, for  "
   ]
  },
  {
   "cell_type": "code",
   "execution_count": 58,
   "metadata": {},
   "outputs": [
    {
     "ename": "SyntaxError",
     "evalue": "invalid syntax (<ipython-input-58-f6244d7ca261>, line 1)",
     "output_type": "error",
     "traceback": [
      "\u001b[1;36m  File \u001b[1;32m\"<ipython-input-58-f6244d7ca261>\"\u001b[1;36m, line \u001b[1;32m1\u001b[0m\n\u001b[1;33m    insert(인덱스, 추가하고자 하는 데이터)\u001b[0m\n\u001b[1;37m                       ^\u001b[0m\n\u001b[1;31mSyntaxError\u001b[0m\u001b[1;31m:\u001b[0m invalid syntax\n"
     ]
    }
   ],
   "source": [
    "insert(인덱스, 추가하고자 하는 데이터)\n",
    "movie_rank = ['닥터 스트레인지', '스플릿', '럭키', '배트맨']\n",
    "movie_rank.insert(1, \"슈퍼맨\")\n",
    "print(movie_rank)\n",
    "\n",
    "num=[5,1,4,3,2]\n",
    "print(max(num))\n",
    "print(min(num))\n",
    "print(sum(num))\n",
    "print(len(num))\n",
    "avg=sum(num)/len(num)\n",
    "print(avg)"
   ]
  },
  {
   "cell_type": "code",
   "execution_count": 59,
   "metadata": {},
   "outputs": [
    {
     "name": "stdout",
     "output_type": "stream",
     "text": [
      "삼성전자/LG전자/Naver/SK하이닉스/미래에셋대우\n",
      "삼성전자\n",
      "LG전자\n",
      "Naver\n",
      "SK하이닉스\n",
      "미래에셋대우\n",
      "삼성전자/LG전자/Naver/SK하이닉스/미래에셋대우\n",
      "['삼성전자', 'LG전자', 'Naver', 'SK하이닉스', '미래에셋대우']\n"
     ]
    }
   ],
   "source": [
    "interest = ['삼성전자', 'LG전자', 'Naver', 'SK하이닉스', '미래에셋대우']\n",
    "print(\"/\".join(interest))\n",
    "print(\"\\n\".join(interest))\n",
    "\n",
    "interest=\"/\".join(interest)\n",
    "print(interest)\n",
    "\n",
    "print(interest.split(\"/\"))"
   ]
  },
  {
   "cell_type": "code",
   "execution_count": 60,
   "metadata": {},
   "outputs": [],
   "source": [
    "a = [1, 3, 5, 4, 2]\n",
    "# a.sort( )\n",
    "# a.reverse( )\n",
    "\n",
    "# 튜플 추가\n",
    "a = (1, 2, 3)\n",
    "a = a + (4,)"
   ]
  },
  {
   "cell_type": "code",
   "execution_count": 61,
   "metadata": {},
   "outputs": [
    {
     "name": "stdout",
     "output_type": "stream",
     "text": [
      "{'A': 90, 'B': 80, 'C': 70, 'name': 'python'}\n",
      "dict_keys(['아이디', '레벨', '체력', '마나', '공격력', '방어력'])\n",
      "dict_values(['홍길동', 10, 100, 20, 200, 50])\n",
      "dict_items([('아이디', '홍길동'), ('레벨', 10), ('체력', 100), ('마나', 20), ('공격력', 200), ('방어력', 50)])\n",
      "홍길동\n",
      "100\n"
     ]
    }
   ],
   "source": [
    "a = {'A':90, 'B':80, 'C':70}\n",
    "# print(a.pop('B')) #리스트의 경우에는 마지막 요소가 추출\n",
    "# #딕셔너리에서는 추출하고자 하는 데이터의 키를 인수로 지정\n",
    "\n",
    "#딕셔너리의 키는 변하지 않는 값을 사용\n",
    "a['name'] = 'python'\n",
    "#a[250] = 'python'\n",
    "#a[('a',)] = 'python'\n",
    "\n",
    "#a[[1]] = 'python' #[1]는 리스트이므로 변하는 값 -> 딕셔너리의 키로 사용할 수 없음\n",
    "print(a)\n",
    "\n",
    "dic={'아이디':'홍길동', '레벨':10, '체력':100, '마나':20, '공격력':200, '방어력':50}\n",
    "print(dic.keys())\n",
    "print(dic.values())\n",
    "print(dic.items())\n",
    "\n",
    "dic.clear() #모든 요소들을 제거\n",
    "\n",
    "dic={'아이디':'홍길동', '레벨':10, '체력':100, '마나':20, '공격력':200, '방어력':50}\n",
    "print(dic['아이디'])\n",
    "print(dic.get('체력'))#키에 연결된 값을 추출\n",
    "# 딕셔너리.get('키') == 딕셔너리['키']\n",
    "#print(dic['민첩']) #KeyError: '민첩'\n",
    "#print(dic.get('민첩')) #None(거짓)\n",
    "\n",
    "dic={'아이디':'홍길동', '레벨':10, '체력':100, '마나':20, '공격력':200, '방어력':50}\n",
    "# print(dic.get('민첩',0)) #민첩 키가 존재하지 않으면 디폴트값으로 0을 출력\n",
    "#"
   ]
  },
  {
   "cell_type": "code",
   "execution_count": 63,
   "metadata": {},
   "outputs": [
    {
     "name": "stdout",
     "output_type": "stream",
     "text": [
      "{1, 2, 3}\n",
      "{'o', 'l', 'e', 'i', 'h'}\n",
      "['o', 'l', 'e', 'i', 'h']\n",
      "{1, 2, 3}\n",
      "3\n"
     ]
    }
   ],
   "source": [
    "#집합(set):{}, 순서가 없음, 중복 불허\n",
    "s1=set([1,2,2,3])#리스트 자료를 기초로 집합(중복 제외)을 생성\n",
    "print(s1)\n",
    "\n",
    "s2=set(\"hihello\")#리스트 자료를 기초로 집합(중복 제외)을 생성\n",
    "print(s2)\n",
    "print(list(s2))\n",
    "\n",
    "s1=set([1,2,2,3])#리스트 자료를 기초로 집합(중복 제외)을 생성\n",
    "print(s1)\n",
    "#print(s1[2]) # 에러 발생: 리스트나 튜플은 순서가 있음 -> 인덱싱을 통해 데이터 접근 o\n",
    "#반면에 셋(set)은 순서가 없음 -> 인덱싱을 할 수 없음 => 만약 인덱싱으로 접근하고 싶다면? 리스트 or  튜플로 변환한 다음 인덱싱 수행\n",
    "s11=list(s1)\n",
    "print(s11[2])"
   ]
  },
  {
   "cell_type": "code",
   "execution_count": 65,
   "metadata": {},
   "outputs": [
    {
     "ename": "SyntaxError",
     "evalue": "invalid syntax (<ipython-input-65-7c205bf39e87>, line 17)",
     "output_type": "error",
     "traceback": [
      "\u001b[1;36m  File \u001b[1;32m\"<ipython-input-65-7c205bf39e87>\"\u001b[1;36m, line \u001b[1;32m17\u001b[0m\n\u001b[1;33m    s3.add(3,4) 오류\u001b[0m\n\u001b[1;37m                 ^\u001b[0m\n\u001b[1;31mSyntaxError\u001b[0m\u001b[1;31m:\u001b[0m invalid syntax\n"
     ]
    }
   ],
   "source": [
    "1=set([1,2,3,4,5,6])\n",
    "s2=set([4,5,6,7,8,9])\n",
    "#교집합\n",
    "print(s1&s2)\n",
    "print(s1.intersection(s2))\n",
    "#합집합\n",
    "print(s1|s2)\n",
    "print(s1.union(s2))\n",
    "#차집합\n",
    "print(s1-s2)\n",
    "print(s1.difference(s2))\n",
    "print(s2-s1)\n",
    "print(s2.difference(s1))\n",
    "\n",
    "s3=set()\n",
    "s3.add(3)\n",
    "s3.add(3,4) 오류\n",
    "s3.add([3,4]) 오류\n",
    "# add 함수는 데이터 1개만 추가 가능"
   ]
  },
  {
   "cell_type": "code",
   "execution_count": 66,
   "metadata": {},
   "outputs": [
    {
     "ename": "NameError",
     "evalue": "name 's3' is not defined",
     "output_type": "error",
     "traceback": [
      "\u001b[1;31m---------------------------------------------------------------------------\u001b[0m",
      "\u001b[1;31mNameError\u001b[0m                                 Traceback (most recent call last)",
      "\u001b[1;32m<ipython-input-66-f6dedfcea63a>\u001b[0m in \u001b[0;36m<module>\u001b[1;34m\u001b[0m\n\u001b[0;32m      1\u001b[0m \u001b[1;31m#update 함수 : 여러 개를 추가\u001b[0m\u001b[1;33m\u001b[0m\u001b[1;33m\u001b[0m\u001b[1;33m\u001b[0m\u001b[0m\n\u001b[1;32m----> 2\u001b[1;33m \u001b[0ms3\u001b[0m\u001b[1;33m.\u001b[0m\u001b[0mupdate\u001b[0m\u001b[1;33m(\u001b[0m\u001b[1;33m[\u001b[0m\u001b[1;36m1\u001b[0m\u001b[1;33m,\u001b[0m\u001b[1;36m2\u001b[0m\u001b[1;33m,\u001b[0m\u001b[1;36m3\u001b[0m\u001b[1;33m,\u001b[0m\u001b[1;36m5\u001b[0m\u001b[1;33m,\u001b[0m\u001b[1;36m6\u001b[0m\u001b[1;33m]\u001b[0m\u001b[1;33m)\u001b[0m\u001b[1;33m\u001b[0m\u001b[1;33m\u001b[0m\u001b[0m\n\u001b[0m\u001b[0;32m      3\u001b[0m \u001b[0mprint\u001b[0m\u001b[1;33m(\u001b[0m\u001b[0ms3\u001b[0m\u001b[1;33m)\u001b[0m\u001b[1;33m\u001b[0m\u001b[1;33m\u001b[0m\u001b[0m\n\u001b[0;32m      4\u001b[0m \u001b[1;33m\u001b[0m\u001b[0m\n\u001b[0;32m      5\u001b[0m \u001b[0ms3\u001b[0m\u001b[1;33m.\u001b[0m\u001b[0mupdate\u001b[0m\u001b[1;33m(\u001b[0m\u001b[1;33m[\u001b[0m\u001b[1;36m1\u001b[0m\u001b[1;33m,\u001b[0m\u001b[1;36m2\u001b[0m\u001b[1;33m,\u001b[0m\u001b[1;36m3\u001b[0m\u001b[1;33m,\u001b[0m\u001b[1;36m15\u001b[0m\u001b[1;33m,\u001b[0m\u001b[1;36m16\u001b[0m\u001b[1;33m]\u001b[0m\u001b[1;33m)\u001b[0m\u001b[1;33m\u001b[0m\u001b[1;33m\u001b[0m\u001b[0m\n",
      "\u001b[1;31mNameError\u001b[0m: name 's3' is not defined"
     ]
    }
   ],
   "source": [
    "#update 함수 : 여러 개를 추가\n",
    "s3.update([1,2,3,5,6])\n",
    "print(s3)\n",
    "\n",
    "s3.update([1,2,3,15,16])\n",
    "print(s3)\n",
    "\n",
    "s3.remove(2)\n",
    "print(s3)"
   ]
  },
  {
   "cell_type": "code",
   "execution_count": 67,
   "metadata": {},
   "outputs": [],
   "source": [
    "#불 자료형: 참(True) or 거짓(False)\n",
    "#참: \"test\", [1,2], 1, ...\n",
    "#거짓: \"\",  None, 0, [], (), {}"
   ]
  },
  {
   "cell_type": "code",
   "execution_count": 68,
   "metadata": {},
   "outputs": [],
   "source": [
    "#while 조건:     #조건이 참인 동안에 문장 수행을 반복하세요(조건이 거짓이 될 때까지)\n",
    "#     # 문장1\n",
    "#     # 문장2\n",
    "#     # ...\n",
    "#\n",
    "# a=[1,2,3]\n",
    "# while a:  #True : a 리스트에 pop 대상 데이터가 남아 있는 경우\n",
    "#     print(a.pop()) #3 2 1\n",
    "#\n",
    "# print(\"반복문을 종료합니다\")"
   ]
  },
  {
   "cell_type": "code",
   "execution_count": 69,
   "metadata": {},
   "outputs": [],
   "source": [
    "# if 조건:\n",
    "# #     문장1\n",
    "# #     문장2\n",
    "# # else:\n",
    "# #     문장1\n",
    "# #     문장2\n",
    "# if []:  #if 조건   만약에 조건을 만족하면\n",
    "#     print(\"참\")\n",
    "# else: #만족하지 않으면\n",
    "#     print(\"거짓\")"
   ]
  },
  {
   "cell_type": "code",
   "execution_count": 70,
   "metadata": {},
   "outputs": [
    {
     "name": "stdout",
     "output_type": "stream",
     "text": [
      "False\n",
      "True\n",
      "False\n"
     ]
    }
   ],
   "source": [
    "print(bool([]))\n",
    "print(bool(\"dsfdfs\"))\n",
    "print(bool(0))"
   ]
  },
  {
   "cell_type": "code",
   "execution_count": 71,
   "metadata": {},
   "outputs": [
    {
     "name": "stdout",
     "output_type": "stream",
     "text": [
      "1195650995400\n",
      "1195650413832\n",
      "==================================================\n",
      "[1, 2, 3]\n",
      "[1, 2, 3]\n",
      "1195649800328\n",
      "1195649800328\n",
      "[1, 5, 3]\n",
      "[1, 5, 3]\n",
      "True\n"
     ]
    }
   ],
   "source": [
    "a=[1,2,3]\n",
    "#변수=리스트? 리스트(객체)는 메모리에 생성되고, 변수 a는 리스트가 저장된 메모리상의 주소를 가지게 됨\n",
    "\n",
    "#a변수가 가리키는 메모리의 주소를 확인\n",
    "print(id(a)) #메모리의 3005064741760 번지에 [1,2,3]이 저장되어 있다는 의미\n",
    "\n",
    "b=[2,3,4]\n",
    "print(id(b))#메모리의 3005065050624 번지에 [2,3,4]이 저장되어 있다는 의미\n",
    "\n",
    "print(\"=\"*50)\n",
    "a=[1,2,3]\n",
    "b=a #a가 가지고 있는 값은 엄밀히 얘기하자면 [1,2,3]이 저장되어 있는 \"주소값\"\n",
    "print(a)\n",
    "print(b)\n",
    "\n",
    "print(id(a))\n",
    "print(id(b)) #두 값이 같음 (= a가 가지고 있는 주소값이 b에 복사(저장))\n",
    "\n",
    "a[1]=5\n",
    "print(a)\n",
    "print(b)\n",
    "\n",
    "#is : 두 변수가 가리키는 메모리상의 대상이 동일한 지 확인\n",
    "print(a is b) #a와 b가 가리키는 메모리상의 대상이 동일한가요?"
   ]
  },
  {
   "cell_type": "code",
   "execution_count": 72,
   "metadata": {},
   "outputs": [
    {
     "name": "stdout",
     "output_type": "stream",
     "text": [
      "[1, 10]\n",
      "[1, 10]\n",
      "1195649800328\n",
      "1195651198216\n",
      "[1, 2, 3]\n",
      "[1, 2, 3]\n",
      "[1, 10, 3]\n",
      "[1, 2, 3]\n"
     ]
    }
   ],
   "source": [
    "a=[1,2]\n",
    "b=a\n",
    "a[1]=10 #2->10\n",
    "print(a)\n",
    "print(b)\n",
    "\n",
    "#b변수를 만들때, a변수의 값은 가져오면서도 a와는 다른 주소를 가리키도록 하고 싶다면\n",
    "#1번째 방법 [:] 이용\n",
    "a=[1,2,3]\n",
    "b=a[:] #b=a은 동일한 대상(데이터)를 가리킴\n",
    "print(id(a))\n",
    "print(id(b))\n",
    "print(a)\n",
    "print(b)\n",
    "a[1]=10\n",
    "print(a)\n",
    "print(b)"
   ]
  },
  {
   "cell_type": "code",
   "execution_count": 73,
   "metadata": {},
   "outputs": [
    {
     "name": "stdout",
     "output_type": "stream",
     "text": [
      "1195649799304\n",
      "1195650998088\n",
      "False\n"
     ]
    }
   ],
   "source": [
    "#2번째 방법 copy모듈에 있는 copy함수를 이용\n",
    "#\n",
    "# 패키지(폴더):모듈(파일) 또는 패키지의 묶음\n",
    "# 모듈:관련 함수들의 묶음\n",
    "# from 모듈명 import 함수명\n",
    "#모듈로 부터 함수를 가져와라\n",
    "from copy import copy\n",
    "a=[1,2]\n",
    "b=copy(a) #b=a[:] 와 같음\n",
    "print(id(a))\n",
    "print(id(b))\n",
    "print(a is b)"
   ]
  },
  {
   "cell_type": "code",
   "execution_count": 74,
   "metadata": {},
   "outputs": [],
   "source": [
    "# if 조건문:\n",
    "# #     코드\n",
    "#\n",
    "# x=1\n",
    "# if x==1:\n",
    "#     print(\"x는 1이다\")\n",
    "#     print(\"x는 홀수이다\")\n",
    "# print(\"출력됩니다\") #if 문과는 별개의 문장\n",
    "#     #pass #코드를 수행하지 않고 넘어감\n",
    "#     #print(\"x는 1이다\")\n",
    "\n",
    "#or, and, not : 여러 조건을 표현\n",
    "#x in 리스트(튜플,문자열)\n",
    "\n",
    "#반복문 : for, while\n",
    "# i=0\n",
    "# # while i<10: #\"i 변수 값이 10보다 작다\" 라는 조건을 만족하는 동안에, 문장을 반복하세요\n",
    "# #     i=i+1\n",
    "# #     print(i,\"번째 반복 수행\")\n",
    "#\n",
    "# while True: #무한 루프(loop)\n",
    "#     i=i+1\n",
    "#     print(i,\"번째 반복 수행\")\n",
    "#     #조건을 만족했을때 반복 종료\n",
    "#     if i>10:\n",
    "#         break #반복문을 빠져나가라\n",
    "\n",
    "# # prompt=\"\"\"\n",
    "# # 1.추가\n",
    "# # 2.삭제\n",
    "# # 3.종료\n",
    "# # 번호 입력:\"\"\"\n",
    "# # #print(prompt)\n",
    "# #\n",
    "# # num=0\n",
    "# # while num !=3:\n",
    "# #     print(prompt)\n",
    "# #     num=int(input())\n",
    "#\n",
    "# a=0\n",
    "# while a<10:\n",
    "#     a=a+1\n",
    "#     if a%2==0: continue #continue는 while의 시작위치로 이동\n",
    "#     print(a)\n",
    "#\n",
    "# a=0\n",
    "# while a<10:\n",
    "#     a=a+1\n",
    "#     if a%2==0: break #break는 반복문을 벗어나게 됨\n",
    "#     print(a)\n",
    "#\n",
    "# #while문을 이용하여 1~100사이의 자연수 중 4의 배수의 합을 출력\n",
    "# i=0\n",
    "# sum=0\n",
    "# while i<100:\n",
    "#     i=i+1\n",
    "#     if i%4==0:\n",
    "#         sum=sum+i\n",
    "# print(sum)\n",
    "#\n",
    "# i=1\n",
    "# sum=0\n",
    "# while i<=100:\n",
    "#     if i%4==0:\n",
    "#         sum=sum+i\n",
    "#     i=i+1\n",
    "# print(sum)"
   ]
  },
  {
   "cell_type": "code",
   "execution_count": 75,
   "metadata": {},
   "outputs": [],
   "source": [
    "#for문\n",
    "# # for 변수 in 리스트(튜플,문자열):\n",
    "# #     문장1\n",
    "# #     문장2\n",
    "#\n",
    "# #mylist=[1,2,3]\n",
    "# mylist=[\"하나\", \"둘\", \"셋\"]\n",
    "# for i in mylist:\n",
    "#     print(i)\n",
    "#\n",
    "# for i in \"bigdata\":\n",
    "#     print(i)\n",
    "#\n",
    "# for i in [(1,2),(3,4),(5,6)]:\n",
    "#     print(i)\n",
    "#\n",
    "# for i in (1,2,3):\n",
    "#     print(i)\n",
    "#\n",
    "# for i,j in [(1,2),(3,4),(5,6)]:\n",
    "#     print(i)\n",
    "#     print(j)\n",
    "#     print(\"=\"*50)\n",
    "#\n",
    "# for i in range(5):\n",
    "#     print(i)\n",
    "#\n",
    "# for i in range(3,10):\n",
    "#     print(i)\n",
    "#\n",
    "# for i in range(3,10,2):\n",
    "#     print(i)\n",
    "#\n",
    "#\n",
    "# a=[5,6,7,8]\n",
    "# for i in range(len(a)):\n",
    "#     print(i)"
   ]
  },
  {
   "cell_type": "code",
   "execution_count": 76,
   "metadata": {},
   "outputs": [],
   "source": [
    "#for & range 사용\n",
    "# # 2 4 6 8 10 12 14 16 18\n",
    "# print(\"=\"*50)\n",
    "# for dan in range(2,10): #dan=2 to 9\n",
    "#     for i in range(1, 10): #i=1 to 9\n",
    "#         print(dan*i, end=\" \") #\n",
    "#     print(\"\") #줄 바꿈"
   ]
  },
  {
   "cell_type": "code",
   "execution_count": 77,
   "metadata": {},
   "outputs": [
    {
     "name": "stdout",
     "output_type": "stream",
     "text": [
      "31\n",
      "25\n",
      "31\n"
     ]
    }
   ],
   "source": [
    "import random\n",
    "# print(random.random()) #0~1\n",
    "# print(random.randrange(1,7)) #1~6\n",
    "# print(random.randrange(1,7))\n",
    "\n",
    "print(random.randint(1,46)) #1~45\n",
    "print(random.randrange(1,46)) #1~45\n",
    "#다른점\n",
    "print(random.randrange(1,46,2)) #1~45까지 2씩 증가시킨 수 중에서 난수 발생"
   ]
  },
  {
   "cell_type": "markdown",
   "metadata": {},
   "source": [
    "------------------------------------------------------------------\n",
    "# Day5"
   ]
  },
  {
   "cell_type": "markdown",
   "metadata": {},
   "source": [
    "**keyword**  \n",
    "def 함수  \n",
    "global  \n",
    "lambda  "
   ]
  },
  {
   "cell_type": "code",
   "execution_count": 78,
   "metadata": {},
   "outputs": [],
   "source": [
    "# def 함수명(매개변수 0개 이상):\n",
    "#     문장1\n",
    "#     문장2\n",
    "#함수 정의 구문\n",
    "\n",
    "#함수 호출 구문\n",
    "#\n",
    "# def add(a, b): #사용자 함수(매개변수)\n",
    "#     sum=a+b\n",
    "#     print(\"add함수\")\n",
    "#     return sum\n",
    "#\n",
    "# print(\"호출전\")\n",
    "# res=add(1,2) #parameter(인수)\n",
    "# print(\"호출후\")\n",
    "# print(res)\n",
    "\n",
    "# 수행순서\n",
    "# # 함수는 스스로 수행하지 않는다. 호출해야만 수행\n",
    "# # 1) add(1,2) 호출\n",
    "# # 2) add함수 수행 -> sum 리턴\n",
    "# # 3) sum이 res에 저장\n",
    "\n",
    "#입력값이 없는 함수\n",
    "# def say():\n",
    "#     return \"안녕\"\n",
    "# s=say()\n",
    "# print(s)\n",
    "\n",
    "#출력값이 없는 함수(return문이 없는 함수)\n",
    "# def add(a,b):\n",
    "#     print(\"두 수의 합은 : \",a+b)\n",
    "\n",
    "#입력값/출력값 없는 함수\n",
    "# def say():\n",
    "#      print(\"안녕\")\n",
    "#      #return 생략\n",
    "# say()\n",
    "\n",
    "#매개변수의 초기값을 설정하여 함수 호출\n",
    "# def add(a,b):\n",
    "#     print(b)\n",
    "#     print(a)\n",
    "#     return a+b\n",
    "# res=add(2,3)\n",
    "# print(res)\n",
    "\n",
    "\n",
    "# def add(a,b=3):\n",
    "#     print(b)\n",
    "#     print(a)\n",
    "#     return a+b\n",
    "# res=add(2)\n",
    "# print(res)\n",
    "\n",
    "\n",
    "# def add(a=1,b=3): #외부에서 전달되는 값이 있으면 저장, 없으면 기본값 3이 저장\n",
    "#     print(b)\n",
    "#     print(a)\n",
    "#     return a+b\n",
    "# res=add(10,20)\n",
    "# print(res)"
   ]
  },
  {
   "cell_type": "code",
   "execution_count": 79,
   "metadata": {},
   "outputs": [
    {
     "ename": "NameError",
     "evalue": "name 'addmul' is not defined",
     "output_type": "error",
     "traceback": [
      "\u001b[1;31m---------------------------------------------------------------------------\u001b[0m",
      "\u001b[1;31mNameError\u001b[0m                                 Traceback (most recent call last)",
      "\u001b[1;32m<ipython-input-79-b298e1ea7959>\u001b[0m in \u001b[0;36m<module>\u001b[1;34m\u001b[0m\n\u001b[0;32m     20\u001b[0m \u001b[1;33m\u001b[0m\u001b[0m\n\u001b[0;32m     21\u001b[0m \u001b[1;31m#addmul(연산종류(add/mul), 피연산자들)\u001b[0m\u001b[1;33m\u001b[0m\u001b[1;33m\u001b[0m\u001b[1;33m\u001b[0m\u001b[0m\n\u001b[1;32m---> 22\u001b[1;33m \u001b[0mres\u001b[0m\u001b[1;33m=\u001b[0m\u001b[0maddmul\u001b[0m\u001b[1;33m(\u001b[0m\u001b[1;34m\"add\"\u001b[0m\u001b[1;33m,\u001b[0m\u001b[1;36m1\u001b[0m\u001b[1;33m,\u001b[0m\u001b[1;36m2\u001b[0m\u001b[1;33m,\u001b[0m\u001b[1;36m3\u001b[0m\u001b[1;33m,\u001b[0m\u001b[1;36m4\u001b[0m\u001b[1;33m)\u001b[0m \u001b[1;31m#인수가 가변적\u001b[0m\u001b[1;33m\u001b[0m\u001b[1;33m\u001b[0m\u001b[0m\n\u001b[0m\u001b[0;32m     23\u001b[0m \u001b[0mprint\u001b[0m\u001b[1;33m(\u001b[0m\u001b[0mres\u001b[0m\u001b[1;33m)\u001b[0m \u001b[1;31m#1+2+3+4의 결과가 출력\u001b[0m\u001b[1;33m\u001b[0m\u001b[1;33m\u001b[0m\u001b[0m\n\u001b[0;32m     24\u001b[0m \u001b[1;33m\u001b[0m\u001b[0m\n",
      "\u001b[1;31mNameError\u001b[0m: name 'addmul' is not defined"
     ]
    }
   ],
   "source": [
    "#함수로 전달되는 인수의 개수가 정해져 있지 않은 경우\n",
    "# def add(*arg): #매개변수(agruments) 명 앞에 *을 붙이면 튜플로 인식\n",
    "#     print(arg)\n",
    "#     res=0\n",
    "#     for i in arg:\n",
    "#         res+=i\n",
    "#     return res\n",
    "# r=add(1,2,3,4,5)\n",
    "# print(r)\n",
    "#\n",
    "#\n",
    "# def mul(*arg):\n",
    "#     res=1\n",
    "#     for i in arg:\n",
    "#         res*=i\n",
    "#     return res\n",
    "# #     구문 완성\n",
    "# res=mul(1,2,3) #인수가 가변적\n",
    "# print(res) #6출력\n",
    "\n",
    "#addmul(연산종류(add/mul), 피연산자들)\n",
    "res=addmul(\"add\",1,2,3,4) #인수가 가변적\n",
    "print(res) #1+2+3+4의 결과가 출력\n",
    "\n",
    "res=addmul(\"mul\",1,2,3,4,5) #인수가 가변적\n",
    "print(res) #1*2*3*4*5의 결과가 출력"
   ]
  },
  {
   "cell_type": "code",
   "execution_count": 80,
   "metadata": {},
   "outputs": [
    {
     "name": "stdout",
     "output_type": "stream",
     "text": [
      "내 이름은 김말순\n",
      "나이는  26\n",
      "성별은 남\n"
     ]
    }
   ],
   "source": [
    "def say(name, old, man=True):   #매개변수를 작성하세요\n",
    "    #코드를 구현하시오\n",
    "    print(\"내 이름은\", name)\n",
    "    print(\"나이는 \", old)\n",
    "    if man:\n",
    "        print(\"성별은 남\")\n",
    "    else:\n",
    "        print(\"성별은 여\")\n",
    "#say('홍길동', 25)\n",
    "#say('홍길동', 25, True)\n",
    "#say('김말순', 26, False)\n",
    "say('김말순', 26)\n",
    "\n",
    "a=1 #함수 밖에 있는 a\n",
    "def mytest(a): #매개변수 a는 함수 안에서만 사용되는 변수임. 함수 밖에 있는 a가 아님\n",
    "    a=a+1\n",
    "mytest(10)"
   ]
  },
  {
   "cell_type": "code",
   "execution_count": 81,
   "metadata": {},
   "outputs": [
    {
     "ename": "SyntaxError",
     "evalue": "invalid syntax (<ipython-input-81-ad1a06d77a07>, line 26)",
     "output_type": "error",
     "traceback": [
      "\u001b[1;36m  File \u001b[1;32m\"<ipython-input-81-ad1a06d77a07>\"\u001b[1;36m, line \u001b[1;32m26\u001b[0m\n\u001b[1;33m    람다를 이용한 함수 정의\u001b[0m\n\u001b[1;37m          ^\u001b[0m\n\u001b[1;31mSyntaxError\u001b[0m\u001b[1;31m:\u001b[0m invalid syntax\n"
     ]
    }
   ],
   "source": [
    "#1. return사용\n",
    "# a=1\n",
    "# def mytest3_1(a):\n",
    "#     a=a+1 #함수 안에서 밖에 있는 변수를 증가하고 싶다면? return\n",
    "#     return a\n",
    "# a=mytest3_1(a)\n",
    "# print(a) #2가 출력\n",
    "#\n",
    "# #2. global 사용 : 함수 안에서 함수 밖의 변수를 직접 사용 가능\n",
    "# a=1\n",
    "# def mytest3_2():\n",
    "#     global a\n",
    "#     a=a+1\n",
    "# mytest3_2()\n",
    "# print(a)\n",
    "#\n",
    "# #lambda:def와 동일한 기능 수행하는 예약어\n",
    "# #함수 정의시 일반적으로는 def를 사용. 함수가 복잡하거나 def를 사용하지 못하는 곳에서는 람다 사용\n",
    "# print(\"=\"*50)\n",
    "# #1. def를 이용한 일반적인 함수 정의\n",
    "# def myadd(a,b):\n",
    "#     return a+b\n",
    "# res=myadd(2,3)\n",
    "# print(res)\n",
    "\n",
    "람다를 이용한 함수 정의\n",
    "# myadd2=lambda a,b:a+b\n",
    "# #함수명=lambda 매개변수1, 매개변수2, ...:매개변수를 이용한 계산식\n",
    "# res=myadd2(2,3)\n",
    "# print(res)\n",
    "\n",
    "#퀴즈:카페에 업로드\n",
    "# def mymax(*arg): #구현\n",
    "#     #print(max(arg))\n",
    "#     #for문 구현\n",
    "#     m=0\n",
    "#     for i in range(len(arg)):\n",
    "#        if m<arg[i]:\n",
    "#            m=arg[i]\n",
    "#     return m\n",
    "# print(\"최대값 : \",mymax(5,1,3,2)) #5\n",
    "# print(\"최대값 : \",mymax(2,7,9)) #9\n",
    "\n",
    "\n",
    "#일반 함수 형식\n",
    "# def pt(x):\n",
    "#     return x+10\n",
    "# print(pt(1))\n",
    "\n",
    "#람다 함수 형식\n",
    "# pt=lambda x:x+10\n",
    "# print(pt(1))\n",
    "\n",
    "#람다 함수 자체를 바로 호출\n",
    "#(lambda 매개변수들:수식)(인수들)\n",
    "print((lambda x:x+10)(1))\n",
    "\n",
    "print((lambda x,y:x+y)(1,2))\n",
    "\n",
    "#람다 함수 내에서는 변수를 생성할 수 없음\n",
    "#print((lambda x:y=2; x+y)(1)) 문법 오류,   아래와 같이 작성해야 함\n",
    "# y=2\n",
    "# print((lambda x:x+y)(1))\n",
    "#\n",
    "# print((lambda x,y=3:x+y)(1))\n",
    "\n",
    "#함수의 인수 부분에 간단한 함수를 적용하고자 하는 경우\n",
    "# def pt(x):\n",
    "#     return x+10\n",
    "# print(list(map(pt,[1,2,3] ))) #map -> list\n",
    "\n",
    "def pt2(x):\n",
    "    return x+10\n",
    "print(list(map(pt2, [1,2,3])))\n",
    "#map(함수, 데이터)\n",
    "\n",
    "print(list(map(lambda x: x+10, [1,2,3])))\n",
    "\n",
    "#람다식으로 매개변수가 없는 함수 표현\n",
    "print((lambda : 1)())\n",
    "\n",
    "x=10\n",
    "print((lambda : x)())\n",
    "\n",
    "#퀴즈2\n",
    "fl=['test.c', 'test2.h', 'sample.py', 'sample2.c']\n",
    "#확장자가 c이거나 h인 파일 이름을 모두 화면에 출력#\n",
    "#코드를 카페에 업로드\n"
   ]
  },
  {
   "cell_type": "markdown",
   "metadata": {},
   "source": [
    "--------------------------------------------------------------------\n",
    "# Day6"
   ]
  },
  {
   "cell_type": "markdown",
   "metadata": {},
   "source": [
    "**keyword**  \n",
    "파일 입출력  \n",
    "f = open  \n",
    "pickle  \n",
    "class  \n",
    "모듈   "
   ]
  },
  {
   "cell_type": "code",
   "execution_count": 82,
   "metadata": {},
   "outputs": [
    {
     "data": {
      "text/plain": [
       "'\\n입출력 종류 : 표준, 파일, 네트워크\\n파일 입출력\\n-open() : 파일열기 -> 파일입력(read)/출력(write) -> 파일 닫기(close)\\n\\n'"
      ]
     },
     "execution_count": 82,
     "metadata": {},
     "output_type": "execute_result"
    }
   ],
   "source": [
    "\"\"\"\n",
    "입출력 종류 : 표준, 파일, 네트워크\n",
    "파일 입출력\n",
    "-open() : 파일열기 -> 파일입력(read)/출력(write) -> 파일 닫기(close)\n",
    "\n",
    "\"\"\""
   ]
  },
  {
   "cell_type": "code",
   "execution_count": 85,
   "metadata": {},
   "outputs": [
    {
     "name": "stdout",
     "output_type": "stream",
     "text": [
      "hello world\n",
      "hello world\n",
      "hello\n",
      "nicetomeetyou\n",
      "bye\n",
      "hello\n",
      "\n",
      "hello\n",
      "\n",
      "hello\n",
      "nicetomeetyou\n",
      "\n",
      "nicetomeetyou\n",
      "bye\n",
      "bye\n",
      "\n",
      "\n",
      "hello\n",
      "nicetomeetyou\n",
      "bye\n"
     ]
    }
   ],
   "source": [
    "# 파일에 문자열 출력(쓰기)\n",
    "f = open(\"hello.txt\",\"w\") # 파일을 쓰기 용도로 열기\n",
    "# open(파일명, 모드(읽기r/쓰기w)\n",
    "# 프로그램 상에서는 쓰기 모드로 열려있는 hello.txt 파일이 f라는 이름으로 사용됨.\n",
    "\n",
    "f.write('hello world')\n",
    "f.close()\n",
    "\n",
    "# 파일로부터 문자열 입력(읽기)\n",
    "f = open(\"hello.txt\", \"r\")\n",
    "s = f.read()\n",
    "print(s)\n",
    "f.close()\n",
    "\n",
    "# with ~ as 구문은 파일을 사용한 뒤에 자동으로 파일을 닫아줌\n",
    "# with open(파일이름, 모드) as 파일변수:\n",
    "#    코드\n",
    "\n",
    "with open(\"hello.txt\",\"r\") as f:\n",
    "    s = f.read()\n",
    "    print(s)\n",
    "# close 작업을 자동으로 수행\n",
    "\n",
    "# 파일에 여러 줄 출력\n",
    "# 'w' 모드로 열게되면 기존에 작성되어 있던 내용은 사라짐\n",
    "with open(\"hello.txt\",\"w\") as f:\n",
    "    for i in range(10):\n",
    "        f.write(\"hello world {0}\\n\".format(i+1))\n",
    "\n",
    "# 리스트의 내용을 파일에 출력\n",
    "lines = ['hello\\n', 'nicetomeetyou\\n', 'bye']\n",
    "with open(\"hello.txt\",\"w\") as f:\n",
    "    f.writelines(lines)\n",
    "\n",
    "with open(\"hello.txt\",\"r\") as f:\n",
    "    s = f.read()  # read 함수는 1글자씩 읽어들임\n",
    "    print(s)\n",
    "\n",
    "with open(\"hello.txt\",\"r\") as f:\n",
    "    s = f.readline()  # readline 함수는 1줄씩 읽어들임(for or while 과 함께 사용)\n",
    "    print(s)\n",
    "\n",
    "with open(\"hello.txt\",\"r\") as f:\n",
    "    line = None\n",
    "    while line !=\"\":\n",
    "        line = f.readline()\n",
    "        print(line)  # 2줄이 바뀜\n",
    "        print(line.strip(\"\\n\")) #\\n을 삭제\n",
    "\n",
    "with open(\"hello.txt\",\"r\") as f:\n",
    "    line=f.readlines()\n",
    "    for i in line:\n",
    "        print(i.strip(\"\\n\"))"
   ]
  },
  {
   "cell_type": "code",
   "execution_count": 86,
   "metadata": {},
   "outputs": [
    {
     "name": "stdout",
     "output_type": "stream",
     "text": [
      "단팥\n",
      "파랑\n",
      "20센티\n",
      "10센티\n",
      "{'잉어': 30, '꽃게': 10, '상어': 40}\n"
     ]
    }
   ],
   "source": [
    "# 피클(picke) : 파이썬 객체를 파일로 저장하고자 하는 경우에 사용되는 모듈\n",
    "# 피클링 : 객체 -> 파일\n",
    "# 언피클링 : 파일 -> 객체\n",
    "\n",
    "# 객체를 파일로 저장\n",
    "import pickle\n",
    "내용물=\"단팥\"\n",
    "색상=\"파랑\"\n",
    "너비=\"20센티\"\n",
    "높이=\"10센티\"\n",
    "가족명단={\"잉어\":30, \"꽃게\":10, \"상어\":40}\n",
    "\n",
    "with open(\"myfish.p\", \"wb\") as f: # 객체 저장할 때는 wb 모드로 파일 열기\n",
    "    pickle.dump(내용물, f)\n",
    "    pickle.dump(색상, f)\n",
    "    pickle.dump(너비, f)\n",
    "    pickle.dump(높이, f)\n",
    "    pickle.dump(가족명단, f)\n",
    "\n",
    "import pickle\n",
    "with open(\"myfish.p\", \"rb\") as f:\n",
    "    내용물 = pickle.load(f)\n",
    "    색상 = pickle.load(f)\n",
    "    너비 = pickle.load(f)\n",
    "    높이 = pickle.load(f)\n",
    "    가족명단 = pickle.load(f)\n",
    "\n",
    "    print(내용물)\n",
    "    print(색상)\n",
    "    print(너비)\n",
    "    print(높이)\n",
    "    print(가족명단)\n",
    "\n",
    "f = open(\"hello.txt\",\"a\")\n",
    "for i in range(3):\n",
    "    f.write(\"%d번째 줄 추가\\n\" %(i+1))\n",
    "f.close()"
   ]
  },
  {
   "cell_type": "code",
   "execution_count": 87,
   "metadata": {},
   "outputs": [
    {
     "name": "stdout",
     "output_type": "stream",
     "text": [
      "3\n",
      "3000\n",
      "8000\n",
      "1500\n",
      "3500\n"
     ]
    }
   ],
   "source": [
    "# 클래스 - 붕어빵기계 / 객체 - 붕어빵 / 메서드 - 동작(굽는다, 뒤집는다 등) / attribute(속성) - 내용물, 크기, 모양, 너비, 높이 등\n",
    "\n",
    "res = 0\n",
    "\n",
    "def add(n):\n",
    "# n에 전달된 값을 res에 저장\n",
    "    global res\n",
    "    res += n\n",
    "\n",
    "add(3)\n",
    "print(res)\n",
    "\n",
    "res1 = 0 # 전역변수\n",
    "res2 = 0\n",
    "# 편의점 -> 계산대 -> 계산기 2대 ->\n",
    "def add1(n):  # 지역변수\n",
    "    global res1\n",
    "    res1 += n\n",
    "    return res1\n",
    "\n",
    "print(add1(3000))\n",
    "print(add1(5000))\n",
    "\n",
    "# 2번째 계산대\n",
    "def add2(n):  # 지역변수\n",
    "    global res2\n",
    "    res2 += n\n",
    "    return res2\n",
    "\n",
    "print(add2(1500))\n",
    "print(add2(2000))"
   ]
  },
  {
   "cell_type": "code",
   "execution_count": 88,
   "metadata": {},
   "outputs": [
    {
     "ename": "AttributeError",
     "evalue": "'Calculator' object has no attribute 'res'",
     "output_type": "error",
     "traceback": [
      "\u001b[1;31m---------------------------------------------------------------------------\u001b[0m",
      "\u001b[1;31mAttributeError\u001b[0m                            Traceback (most recent call last)",
      "\u001b[1;32m<ipython-input-88-4fa634a3a5f8>\u001b[0m in \u001b[0;36m<module>\u001b[1;34m\u001b[0m\n\u001b[0;32m     14\u001b[0m \u001b[0mcal2\u001b[0m \u001b[1;33m=\u001b[0m \u001b[0mCalculator\u001b[0m\u001b[1;33m(\u001b[0m\u001b[1;33m)\u001b[0m\u001b[1;33m\u001b[0m\u001b[1;33m\u001b[0m\u001b[0m\n\u001b[0;32m     15\u001b[0m \u001b[1;33m\u001b[0m\u001b[0m\n\u001b[1;32m---> 16\u001b[1;33m \u001b[0mprint\u001b[0m\u001b[1;33m(\u001b[0m\u001b[0mcal1\u001b[0m\u001b[1;33m.\u001b[0m\u001b[0madd\u001b[0m\u001b[1;33m(\u001b[0m\u001b[1;36m3000\u001b[0m\u001b[1;33m)\u001b[0m\u001b[1;33m)\u001b[0m\u001b[1;33m\u001b[0m\u001b[1;33m\u001b[0m\u001b[0m\n\u001b[0m\u001b[0;32m     17\u001b[0m \u001b[0mprint\u001b[0m\u001b[1;33m(\u001b[0m\u001b[0mcal1\u001b[0m\u001b[1;33m.\u001b[0m\u001b[0madd\u001b[0m\u001b[1;33m(\u001b[0m\u001b[1;36m5000\u001b[0m\u001b[1;33m)\u001b[0m\u001b[1;33m)\u001b[0m\u001b[1;33m\u001b[0m\u001b[1;33m\u001b[0m\u001b[0m\n\u001b[0;32m     18\u001b[0m \u001b[1;33m\u001b[0m\u001b[0m\n",
      "\u001b[1;32m<ipython-input-88-4fa634a3a5f8>\u001b[0m in \u001b[0;36madd\u001b[1;34m(self, n)\u001b[0m\n\u001b[0;32m      7\u001b[0m         \u001b[0mprint\u001b[0m\u001b[1;33m(\u001b[0m\u001b[1;34m\"init함수가 호출됐네?\"\u001b[0m\u001b[1;33m)\u001b[0m\u001b[1;33m\u001b[0m\u001b[1;33m\u001b[0m\u001b[0m\n\u001b[0;32m      8\u001b[0m     \u001b[1;32mdef\u001b[0m \u001b[0madd\u001b[0m\u001b[1;33m(\u001b[0m\u001b[0mself\u001b[0m\u001b[1;33m,\u001b[0m \u001b[0mn\u001b[0m\u001b[1;33m)\u001b[0m\u001b[1;33m:\u001b[0m\u001b[1;33m\u001b[0m\u001b[1;33m\u001b[0m\u001b[0m\n\u001b[1;32m----> 9\u001b[1;33m         \u001b[0mself\u001b[0m\u001b[1;33m.\u001b[0m\u001b[0mres\u001b[0m\u001b[1;33m+=\u001b[0m\u001b[0mn\u001b[0m\u001b[1;33m\u001b[0m\u001b[1;33m\u001b[0m\u001b[0m\n\u001b[0m\u001b[0;32m     10\u001b[0m         \u001b[1;31m# 10% 할인코드를 여기에 작성 -> 모든 계산대에 공통적으로 적용\u001b[0m\u001b[1;33m\u001b[0m\u001b[1;33m\u001b[0m\u001b[1;33m\u001b[0m\u001b[0m\n\u001b[0;32m     11\u001b[0m         \u001b[1;32mreturn\u001b[0m \u001b[0mself\u001b[0m\u001b[1;33m.\u001b[0m\u001b[0mres\u001b[0m\u001b[1;33m\u001b[0m\u001b[1;33m\u001b[0m\u001b[0m\n",
      "\u001b[1;31mAttributeError\u001b[0m: 'Calculator' object has no attribute 'res'"
     ]
    }
   ],
   "source": [
    "# 클래스 : 각각의 계산대를 객체로 간주하고, 계산대의 특성 또는 동작 등을 일반화시켜 놓은 틀\n",
    "# 클래스 - 사람(실체가 없음) / 객체 - 사람'홍길동'(실체가 있음)\n",
    "\n",
    "class Calculator:  # 클래스명은 대문자로 시작\n",
    "    def __int__(self): # 현재 객체를 self라고 함\n",
    "        self.res=0\n",
    "        print(\"init함수가 호출됐네?\")\n",
    "    def add(self, n):\n",
    "        self.res+=n\n",
    "        # 10% 할인코드를 여기에 작성 -> 모든 계산대에 공통적으로 적용\n",
    "        return self.res\n",
    "# Calculator() : 붕어빵기계에서 붕어빵을 제작 -> __init__ 자동호출 -> res(내용물)=msg\n",
    "cal1 = Calculator()  # 클래스로부터 객체를 생성(init 함수 자동 호출, res=0으로 초기화), 계산대(클래스)로 부터 계산대1(객체)을 생성\n",
    "cal2 = Calculator()\n",
    "\n",
    "print(cal1.add(3000))\n",
    "print(cal1.add(5000))\n",
    "\n",
    "print(cal2.add(1500))\n",
    "print(cal2.add(2000))\n"
   ]
  },
  {
   "cell_type": "code",
   "execution_count": 89,
   "metadata": {},
   "outputs": [
    {
     "name": "stdout",
     "output_type": "stream",
     "text": [
      "3\n",
      "3\n",
      "1\n"
     ]
    }
   ],
   "source": [
    "# 모듈 : 변수, 함수, 클래스 등을 모아 놓은 파이썬 파일\n",
    "\n",
    "import mod1\n",
    "print(mod1.madd(1,2))\n",
    "\n",
    "import mod1 as m  # as: 모듈(패키지)명이 길때 축약해서 표현\n",
    "print(m.madd(1,2))\n",
    "\n",
    "from mod1 import msub\n",
    "# mod1 모듈에 정의되어 있는 msub 메서드만 가져와라\n",
    "print(msub(2,1))\n",
    "\n",
    "from mod1 import madd, msub  # 특정 몇개의 함수가 불러오는 것\n",
    "from mod1 import *  # 모든 함수를 다 불러오는 것"
   ]
  },
  {
   "cell_type": "markdown",
   "metadata": {},
   "source": [
    "-------------------------------------------------------------------------------------------------------------\n",
    "# Day 7"
   ]
  },
  {
   "cell_type": "markdown",
   "metadata": {},
   "source": [
    "**keyword** \n",
    "abs  \n",
    "all  \n",
    "any  \n",
    "chr  \n",
    "ord  \n",
    "filter  "
   ]
  },
  {
   "cell_type": "code",
   "execution_count": 90,
   "metadata": {},
   "outputs": [
    {
     "name": "stdout",
     "output_type": "stream",
     "text": [
      "1.2\n",
      "True\n",
      "False\n",
      "True\n",
      "False\n",
      "False\n",
      "A\n",
      "65\n",
      "0 aaa\n",
      "1 bbb\n",
      "2 ccc\n",
      "10+20\n",
      "<class 'str'>\n",
      "30\n",
      "270\n",
      "<class 'int'>\n",
      "(1, 2)\n"
     ]
    }
   ],
   "source": [
    "#파이썬 라이브러리:수 많은 파이썬 함수\n",
    "\n",
    "#abs함수\n",
    "print(abs(-1.2))\n",
    "\n",
    "#all함수:모두 참 -> True\n",
    "print(all([1,2,3])) #1,2,3 모두 다 참\n",
    "print(all([1,2,3,0])) #1,2,3,0 거짓이 있으므로 전체가 거짓이 됨\n",
    "\n",
    "#any함수 :어느 하나라도 참 => 참, 모두 거짓 => 거짓\n",
    "print(any([1,2,3,0])) #1,2,3,0 참이 있으므로 전체가 참이 됨\n",
    "print(any([0, \"\"])) #모두 거짓\n",
    "print(any([])) #비어있는 리스트는 거짓 => 거짓\n",
    "\n",
    "#chr함수 : 아스키 코드 -> 문자를 출력 함수\n",
    "print(chr(65)) #A\n",
    "\n",
    "#ord함수 : 문자 => 아스키 코드 출려 함수\n",
    "print(ord('A'))\n",
    "\n",
    "#enumerate : 열거형 데이터를 표현하는 함수, for 문과 함께 사용,\n",
    "#리스트, 튜플, 문자열(시퀀스) 데이터 -> 입력 -> 인덱스를 포함하는 enumerate 객체 생성\n",
    "\n",
    "# for i in ['aaa','bbb','ccc']:\n",
    "#     print(i)\n",
    "\n",
    "for idx, i in enumerate(['aaa','bbb','ccc']):\n",
    "    print(idx, i)\n",
    "\n",
    "#인덱스 : 자료의 위치(순서)번호, 0번 부터 사용\n",
    "#a=[10,20,30]\n",
    "\n",
    "#eval():문자열로 구성된 수식 -> 입력 -> 문자열을 실행한 결과를 출력\n",
    "print(\"10+20\")\n",
    "print(type(\"10+20\"))\n",
    "print(eval(\"10+20\"))\n",
    "print(eval(\"10+20*(3+10)\")) #stack사용\n",
    "print(type(eval(\"10+20\")))\n",
    "#x=\"10+20\" => 30\n",
    "\n",
    "#print(eval())\n",
    "print(eval(\"divmod(5,3)\"))"
   ]
  },
  {
   "cell_type": "code",
   "execution_count": 91,
   "metadata": {},
   "outputs": [
    {
     "name": "stdout",
     "output_type": "stream",
     "text": [
      "[1, 3, 9]\n",
      "[1, 3, 9]\n",
      "[1, 3, 9]\n",
      "0xea\n",
      "3\n",
      "3.4\n",
      "234\n"
     ]
    }
   ],
   "source": [
    "# filter():원하는 데이터를 걸러내는 함수\n",
    "#filter(함수이름, 1번째 인수에 있는 함수에 입력될 반복 가능한 자료형)\n",
    "#filter함수의 리턴값이 True(참)인 값들만 묶어서 돌려준다\n",
    "\n",
    "#1.\n",
    "def pos(a):\n",
    "    # 구현\n",
    "    res=[]\n",
    "    for i in a:\n",
    "        if i>0:\n",
    "            res.append(i)\n",
    "    return res\n",
    "\n",
    "print(pos([1,3,-5,-7,9])) #[1,3,9]\n",
    "\n",
    "#2. filter함수\n",
    "#filter(함수이름, 1번째 인수에 있는 함수에 입력될 반복 가능한 자료형)\n",
    "#filter함수의 리턴값이 True(참)인 값들만 묶어서 돌려준다\n",
    "def pos2(a):\n",
    "    return a>0\n",
    "print(list(filter(pos2,[1,3,-5,-7,9])))\n",
    "\n",
    "#3. filter + 람다 함수\n",
    "print(list(filter(lambda a:a>0,[1,3,-5,-7,9])))\n",
    "\n",
    "#hex함수:16진수로 변환\n",
    "print(hex(234))\n",
    "#16진수 ea = e*16+a*1=14*16+10*1=234\n",
    "\n",
    "#int함수 : '3' -> 3\n",
    "print(int('3'))\n",
    "print(float('3.4'))\n",
    "print(int('ea',16))"
   ]
  },
  {
   "cell_type": "code",
   "execution_count": 92,
   "metadata": {},
   "outputs": [
    {
     "name": "stdout",
     "output_type": "stream",
     "text": [
      "[0, 1, 2, 3, 4, 5, 6, 7, 8, 9, 10]\n",
      "[0, 1, 2, 3, 4, 5, 6, 7, 8, 9, 10]\n",
      "[0, 2, 4, 6, 8, 10, 12, 14, 16, 18, 20]\n",
      "[('쌈밥', '사과', '사'), ('쌈밥', '사과', '아'), ('쌈밥', '사과', '커'), ('쌈밥', '아이스크림', '사'), ('쌈밥', '아이스크림', '아'), ('쌈밥', '아이스크림', '커'), ('쌈밥', '커피', '사'), ('쌈밥', '커피', '아'), ('쌈밥', '커피', '커'), ('치킨', '사과', '사'), ('치킨', '사과', '아'), ('치킨', '사과', '커'), ('치킨', '아이스크림', '사'), ('치킨', '아이스크림', '아'), ('치킨', '아이스크림', '커'), ('치킨', '커피', '사'), ('치킨', '커피', '아'), ('치킨', '커피', '커'), ('피자', '사과', '사'), ('피자', '사과', '아'), ('피자', '사과', '커'), ('피자', '아이스크림', '사'), ('피자', '아이스크림', '아'), ('피자', '아이스크림', '커'), ('피자', '커피', '사'), ('피자', '커피', '아'), ('피자', '커피', '커')]\n"
     ]
    }
   ],
   "source": [
    "#일반적인 리스트 저장 표현\n",
    "num=[]\n",
    "for n in range(11):\n",
    "    num.append(n)\n",
    "print(num)\n",
    "\n",
    "#리스트 내포(컴프리헨션)\n",
    "print([n for n in range(11)])\n",
    "\n",
    "print([n*2 for n in range(11)])\n",
    "\n",
    "#1~10까지 짝수만 저장\n",
    "evenNum=[]\n",
    "for i in range(1,11):\n",
    "    if i % 2 == 0:\n",
    "        evenNum.append(i)\n",
    "\n",
    "#1~10까지 짝수만 저장(리스트 컴프리헨션)\n",
    "[i for i in range(1,11) if i % 2 == 0]\n",
    "\n",
    "#리스트\n",
    "#[(메뉴,후식),...]\n",
    "# [('쌈밥', '사과'),\n",
    "#  ('쌈밥', '아이스크림'),\n",
    "#  ('쌈밥', '커피'),\n",
    "#  ('치킨', '사과'),\n",
    "#  ('치킨', '아이스크림'),\n",
    "#  ('치킨', '커피'),\n",
    "#  ('피자', '사과'),\n",
    "#  ('피자', '아이스크림'),\n",
    "#  ('피자', '커피')]\n",
    "#\n",
    "# ['쌈밥', '치킨', '피자']\n",
    "# ['사과', '아이스크림', '커피']\n",
    "\n",
    "\n",
    "print([(x,y,z) for x in ['쌈밥', '치킨', '피자'] for y in ['사과', '아이스크림', '커피'] for z in ['사', '아', '커']])\n",
    "\n",
    "# li=[]\n",
    "# for x in ['쌈밥', '치킨', '피자']:\n",
    "#     for y in ['사과', '아이스크림', '커피']:\n",
    "#       for z in ['사','아','커']:\n",
    "#         li.append((x,y,z))\n",
    "# print(li)"
   ]
  },
  {
   "cell_type": "code",
   "execution_count": 94,
   "metadata": {},
   "outputs": [
    {
     "name": "stdout",
     "output_type": "stream",
     "text": [
      "[0, 1, 2, 3, 4, 6, 8]\n",
      "<class 'list'>\n",
      "<class 'set'>\n",
      "{0: '값', 1: '값', 2: '값', 3: '값', 4: '값', 5: '값', 6: '값', 7: '값', 8: '값', 9: '값', 10: '값', 11: '값', 12: '값', 13: '값', 14: '값', 15: '값', 16: '값', 17: '값', 18: '값'}\n",
      "<class 'dict'>\n",
      "{'철수': 50, '영희': 70}\n",
      "{'철수': 'fail', '영희': 'pass', '순신': 'pass'}\n"
     ]
    }
   ],
   "source": [
    "# 0~9까지 수 중에서 5보다 작으면서 2로 나누어 떨어지는 수를 리스트에 저장하시오.[0, 2, 4]\n",
    "print([x for x in range(10) if x < 5 or x % 2 ==0])\n",
    "print(type([x+y for x in range(10) for y in range(10)]))\n",
    "# 셋{} 컴프리헨션\n",
    "print(type({x+y for x in range(10) for y in range(10)}))\n",
    "# 딕셔너리{} 컴프리헨션    {키:값, 키:값,...}\n",
    "print({x+y:\"값\" for x in range(10) for y in range(10)})\n",
    "print(type({x+y:\"값\" for x in range(10) for y in range(10)}))\n",
    "\n",
    "scores={'철수':50, '영희':70, '순신':100}\n",
    "print({name:score for name, score in scores.items() if name != '순신' })\n",
    "\n",
    "scores={'철수':50, '영희':70, '순신':100}\n",
    "#점수가 60점 이상이면 pass, 미만이면  fail\n",
    "#출력={'철수':fail, '영희':pass, '순신':pass}\n",
    "#출력 성공한 교육생은 코드를 카페에 업로드 해주세요\n",
    "print({name:\"pass\" if score>=60 else \"fail\"  for name, score in scores.items() })"
   ]
  },
  {
   "cell_type": "code",
   "execution_count": 95,
   "metadata": {},
   "outputs": [
    {
     "name": "stdout",
     "output_type": "stream",
     "text": [
      "['computer', 'coke', 'bread']\n",
      "[1, 0, 4, 2, 0, 10]\n",
      "pass\n",
      "fail\n",
      "no\n",
      "no\n",
      "no\n",
      "['pass', 'fail', 'no', 'no', 'no']\n"
     ]
    }
   ],
   "source": [
    "# for name, score in scores.items():\n",
    "#     if score >= 60:\n",
    "#     else:\n",
    "\n",
    "#일반적인 구문 :   [표현식 for 변수명 in 시퀀스 ]\n",
    "\n",
    "words=['Computer', 'Coke', 'Bread']\n",
    "#리스트 컴프리헨션으로 표현\n",
    "#['computer', 'coke', 'bread']\n",
    "#print(\"Computer\".lower())\n",
    "print([w.lower() for w in words])\n",
    "\n",
    "a= [1, -5, 4, 2, -2, 10]\n",
    "#a에 저장된 값이 0보다 크면 a값을, 작으면 0을 출력\n",
    "#[1,0,4,2,0,10]\n",
    "print([i if i>0 else 0 for i in a])\n",
    "\n",
    "a=[1,2,3,4,5]\n",
    "#a값이 1이면 \"pass\", 2이면 \"fail\", 나머지는 \"no\"\n",
    "#[pass,fail,no,no,no]\n",
    "for i in a:\n",
    "    if i==1:\n",
    "        print(\"pass\")\n",
    "    elif i==2:\n",
    "        print(\"fail\")\n",
    "    else:\n",
    "        print(\"no\")\n",
    "\n",
    "print([\"pass\" if i==1 else \"fail\" if i==2 else \"no\"  for i in a])\n",
    "#if i==1 이면 \"pass\", else if i==2 이면 \"fail\" else 이면 \"no\"\n"
   ]
  },
  {
   "cell_type": "code",
   "execution_count": 97,
   "metadata": {},
   "outputs": [
    {
     "ename": "IndentationError",
     "evalue": "expected an indented block (<ipython-input-97-0ed5e05a3625>, line 39)",
     "output_type": "error",
     "traceback": [
      "\u001b[1;36m  File \u001b[1;32m\"<ipython-input-97-0ed5e05a3625>\"\u001b[1;36m, line \u001b[1;32m39\u001b[0m\n\u001b[1;33m    else:\u001b[0m\n\u001b[1;37m       ^\u001b[0m\n\u001b[1;31mIndentationError\u001b[0m\u001b[1;31m:\u001b[0m expected an indented block\n"
     ]
    }
   ],
   "source": [
    "#딕셔너리 응용\n",
    "x={'a':10,'b':20,'c':30}\n",
    "print(x)\n",
    "x['aa']=40\n",
    "print(x)\n",
    "x.setdefault('d') #키 d가 추가, 값이 None저장\n",
    "print(x)\n",
    "\n",
    "x['a']=100\n",
    "print(x)\n",
    "x.update(b=200)\n",
    "print(x)\n",
    "\n",
    "x['z']=99\n",
    "print(x)\n",
    "\n",
    "x.update(c=300, s=50, k=80)\n",
    "print(x)\n",
    "\n",
    "x.update({'a':10, 'd':30})\n",
    "print(x)\n",
    "\n",
    "#print(list(zip([1,2],['one','two'])))\n",
    "x.update(zip(['aa','c'],[999,777]) )\n",
    "print(x)\n",
    "\n",
    "x={'a':10, 'b':20, 'c':30, 'd':40}\n",
    "x.pop('a')\n",
    "print(x)\n",
    "\n",
    "x={'a':10, 'b':20, 'c':30, 'd':40}\n",
    "v=x.pop('b')\n",
    "print(v)\n",
    "\n",
    "x={'a':10, 'b':20, 'c':30, 'd':40}\n",
    "print(x.pop('z',0))#키가 없을때는 0을 리턴\n",
    "if x.pop('z',0)==0:\n",
    "\n",
    "else:\n",
    "\n",
    "\n",
    "x={'a':10, 'b':20, 'c':30, 'd':40}\n",
    "del x['b']\n",
    "print(x)\n",
    "\n",
    "x.clear()\n",
    "print(x)"
   ]
  },
  {
   "cell_type": "code",
   "execution_count": 98,
   "metadata": {},
   "outputs": [
    {
     "name": "stdout",
     "output_type": "stream",
     "text": [
      "{'a': None, 'b': None, 'c': None, 'd': None}\n",
      "{'a': None, 'b': None, 'c': None, 'd': None}\n",
      "{'a': 10, 'c': 30, 'd': 40, 'e': 20}\n",
      "{'a': 10, 'c': 30, 'd': 40}\n",
      "4.0\n",
      "5\n",
      "True\n",
      "{'a': 100, 'b': 1}\n",
      "False\n",
      "True\n",
      "{'a': 111, 'b': 1}\n",
      "{'a': 100, 'b': 1}\n",
      "{'a': {'python': '2.77777'}, 'b': {'python': '2.7'}}\n",
      "{'a': {'python': '2.77777'}, 'b': {'python': '2.7'}}\n"
     ]
    }
   ],
   "source": [
    "#리스트(튜플) -> 딕셔너리 생성\n",
    "# li=['a','b','c'] #키리스트\n",
    "# d=dict.fromkeys(li)\n",
    "# print(d)\n",
    "#\n",
    "# d2=dict.fromkeys(li, 10)\n",
    "# print(d2)\n",
    "#\n",
    "#\n",
    "# from collections import defaultdict #collections 모듈에서 defaultdict함수를 가져옴\n",
    "# #print(d2['z']) 키가 없으므로 에러\n",
    "# d2=defaultdict(int)\n",
    "# print(d2['z'])\n",
    "\n",
    "d3={'a':10, 'b':20}\n",
    "#키만 출력\n",
    "#값만 출력\n",
    "#키,값 쌍을 출력\n",
    "# for k in d3:\n",
    "#     print(k)\n",
    "# for k in d3.keys():\n",
    "#     print(k)\n",
    "\n",
    "# for v in d3.values():\n",
    "#     print(v)\n",
    "\n",
    "# for k,v in d3.items():\n",
    "#     print(k,v)\n",
    "\n",
    "keys=['a','b','c','d']\n",
    "print(dict.fromkeys(keys))\n",
    "\n",
    "# for key, value in dict.fromkeys(keys).items(): #dict.fromkeys(keys)는 딕셔너리\n",
    "#     print(key, value)\n",
    "\n",
    "d4={key:value for key, value in dict.fromkeys(keys).items()}\n",
    "print(d4)\n",
    "\n",
    "x = {'a': 10, 'b': 20, 'c': 30, 'd': 40, 'e':20}\n",
    "\n",
    "#newx는 x에 저장된 데이터에서 'b'를 뺀 나머지를 저장\n",
    "newx={k:v for k, v in x.items() if k!='b'}\n",
    "print(newx)\n",
    "\n",
    "#newx는 x에 저장된 데이터에서 값이 '20'인 자료를 뺀 나머지를 저장\n",
    "newx={k:v for k, v in x.items() if v!=20}\n",
    "print(newx)\n",
    "\n",
    "\n",
    "#딕셔너리={키1: {키a:값a,키b:값b}, 키2:{키c:값c,키d:값d}}\n",
    "\n",
    "영화평점={'BTS':{'머큐리':4.5,'매트릭스':4.0},'소녀시대':{'머큐리':3.5,'매트릭스':3.0}}\n",
    "print(영화평점['BTS']['매트릭스'])\n",
    "\n",
    "영화평점['BTS']['매트릭스']=5\n",
    "print(영화평점['BTS']['매트릭스'])\n",
    "\n",
    "x={'a':0,'b':1}\n",
    "y=x #실제로는 딕셔너리가 1개 만들어짐\n",
    "print(x is y) #변수 이름만 다를 뿐 x, y는 같은 객체\n",
    "\n",
    "x['a']=100\n",
    "print(y)\n",
    "\n",
    "y=x.copy() #완전히 다른 2개의 딕셔너리가 만들어짐\n",
    "print(x is y)\n",
    "print(x==y)\n",
    "x['a']=111\n",
    "print(x)\n",
    "print(y)\n",
    "\n",
    "x={'a':{'python':'3.8'}, 'b':{'python':'2.7'}}\n",
    "y=x.copy()\n",
    "\n",
    "y['a']['python']=\"2.77777\"\n",
    "print(y)\n",
    "\n",
    "print(x)"
   ]
  },
  {
   "cell_type": "code",
   "execution_count": 99,
   "metadata": {},
   "outputs": [
    {
     "name": "stdout",
     "output_type": "stream",
     "text": [
      "{'a': {'python': '2.77777'}, 'b': {'python': '2.7'}}\n",
      "==================================================\n",
      "{'a': {'python': '3.8'}, 'b': {'python': '2.7'}}\n"
     ]
    }
   ],
   "source": [
    "#중첩 딕셔너리에서는 copy메서드 대신 copy모듈의 deepcopy함수를 사용\n",
    "x={'a':{'python':'3.8'}, 'b':{'python':'2.7'}}\n",
    "import copy\n",
    "y=copy.deepcopy(x) #깊은 복사\n",
    "y['a']['python']=\"2.77777\"\n",
    "print(y)\n",
    "print(\"=\"*50)\n",
    "print(x)"
   ]
  },
  {
   "cell_type": "markdown",
   "metadata": {},
   "source": [
    "-------------------------------------------------------------------------\n",
    "# Day 8"
   ]
  },
  {
   "cell_type": "code",
   "execution_count": 101,
   "metadata": {},
   "outputs": [
    {
     "name": "stdout",
     "output_type": "stream",
     "text": [
      "9\n",
      "9\n",
      "3.1416\n",
      "[(1, 3, 5, 7), (2, 4, 6, 8)]\n",
      "[1, 2, 3, 4, 5, 6, 7, 8, 9, 10]\n",
      "[2, 4, 6, 8, 10]\n",
      "[2, 4, 6, 8, 10]\n",
      "environ({'ALLUSERSPROFILE': 'C:\\\\ProgramData', 'APPDATA': 'C:\\\\Users\\\\yiyeon\\\\AppData\\\\Roaming', 'ASL.LOG': 'Destination=file', 'CLSID': '{35FDE996-9F18-4BFA-9FCE-EDBD05B9AE9D}', 'COMMONPROGRAMFILES': 'C:\\\\Program Files\\\\Common Files', 'COMMONPROGRAMFILES(X86)': 'C:\\\\Program Files (x86)\\\\Common Files', 'COMMONPROGRAMW6432': 'C:\\\\Program Files\\\\Common Files', 'COMPUTERNAME': 'YEONKIM', 'COMSPEC': 'C:\\\\WINDOWS\\\\system32\\\\cmd.exe', 'DRIVERDATA': 'C:\\\\Windows\\\\System32\\\\Drivers\\\\DriverData', 'FPS_BROWSER_APP_PROFILE_STRING': 'Internet Explorer', 'FPS_BROWSER_USER_PROFILE_STRING': 'Default', 'HOMEDRIVE': 'C:', 'HOMEPATH': '\\\\Users\\\\yiyeon', 'LOCALAPPDATA': 'C:\\\\Users\\\\yiyeon\\\\AppData\\\\Local', 'LOGONSERVER': '\\\\\\\\YEONKIM', 'NUMBER_OF_PROCESSORS': '4', 'ONEDRIVE': 'C:\\\\Users\\\\yiyeon\\\\OneDrive', 'OS': 'Windows_NT', 'PATH': 'C:\\\\Users\\\\yiyeon\\\\Anaconda3;C:\\\\Users\\\\yiyeon\\\\Anaconda3\\\\Library\\\\mingw-w64\\\\bin;C:\\\\Users\\\\yiyeon\\\\Anaconda3\\\\Library\\\\usr\\\\bin;C:\\\\Users\\\\yiyeon\\\\Anaconda3\\\\Library\\\\bin;C:\\\\Users\\\\yiyeon\\\\Anaconda3\\\\Scripts;C:\\\\ProgramData\\\\Oracle\\\\Java\\\\javapath;C:\\\\Program Files (x86)\\\\Intel\\\\iCLS Client\\\\;C:\\\\Program Files\\\\Intel\\\\iCLS Client\\\\;C:\\\\WINDOWS\\\\system32;C:\\\\WINDOWS;C:\\\\WINDOWS\\\\System32\\\\Wbem;C:\\\\WINDOWS\\\\System32\\\\WindowsPowerShell\\\\v1.0\\\\;C:\\\\Program Files (x86)\\\\Intel\\\\Intel(R) Management Engine Components\\\\DAL;C:\\\\Program Files\\\\Intel\\\\Intel(R) Management Engine Components\\\\DAL;C:\\\\Program Files (x86)\\\\Intel\\\\Intel(R) Management Engine Components\\\\IPT;C:\\\\Program Files\\\\Intel\\\\Intel(R) Management Engine Components\\\\IPT;C:\\\\Program Files\\\\Samsung\\\\SamsungLink\\\\AllShare Framework DMS\\\\bin\\\\;C:\\\\Program Files (x86)\\\\QuickTime Alternative\\\\QTSystem;C:\\\\WINDOWS\\\\System32\\\\OpenSSH\\\\;C:\\\\Program Files\\\\Intel\\\\WiFi\\\\bin\\\\;C:\\\\Program Files\\\\Common Files\\\\Intel\\\\WirelessCommon\\\\;C:\\\\Users\\\\yiyeon\\\\Anaconda3;C:\\\\Users\\\\yiyeon\\\\Anaconda3\\\\Scripts;C:\\\\Users\\\\yiyeon\\\\Anaconda3\\\\Library\\\\bin;C:\\\\Program Files\\\\Git\\\\cmd;C:\\\\Users\\\\yiyeon\\\\AppData\\\\Local\\\\Programs\\\\Python\\\\Python38-32\\\\Scripts\\\\;C:\\\\Users\\\\yiyeon\\\\AppData\\\\Local\\\\Programs\\\\Python\\\\Python38-32\\\\;C:\\\\Users\\\\yiyeon\\\\AppData\\\\Local\\\\Microsoft\\\\WindowsApps;;C:\\\\Users\\\\yiyeon\\\\AppData\\\\Local\\\\Programs\\\\Microsoft VS Code\\\\bin', 'PATHEXT': '.COM;.EXE;.BAT;.CMD;.VBS;.VBE;.JS;.JSE;.WSF;.WSH;.MSC', 'PROCESSOR_ARCHITECTURE': 'AMD64', 'PROCESSOR_IDENTIFIER': 'Intel64 Family 6 Model 78 Stepping 3, GenuineIntel', 'PROCESSOR_LEVEL': '6', 'PROCESSOR_REVISION': '4e03', 'PROGRAMDATA': 'C:\\\\ProgramData', 'PROGRAMFILES': 'C:\\\\Program Files', 'PROGRAMFILES(X86)': 'C:\\\\Program Files (x86)', 'PROGRAMW6432': 'C:\\\\Program Files', 'PSMODULEPATH': 'C:\\\\Program Files\\\\WindowsPowerShell\\\\Modules;C:\\\\WINDOWS\\\\system32\\\\WindowsPowerShell\\\\v1.0\\\\Modules', 'PUBLIC': 'C:\\\\Users\\\\Public', 'SESSIONNAME': 'Console', 'SYSTEMDRIVE': 'C:', 'SYSTEMROOT': 'C:\\\\WINDOWS', 'TEMP': 'C:\\\\Users\\\\yiyeon\\\\AppData\\\\Local\\\\Temp', 'TMP': 'C:\\\\Users\\\\yiyeon\\\\AppData\\\\Local\\\\Temp', 'USERDOMAIN': 'YEONKIM', 'USERDOMAIN_ROAMINGPROFILE': 'YEONKIM', 'USERNAME': 'yiyeon', 'USERPROFILE': 'C:\\\\Users\\\\yiyeon', 'WINDIR': 'C:\\\\WINDOWS', 'CONDA_PREFIX': 'C:\\\\Users\\\\yiyeon\\\\Anaconda3', 'KERNEL_LAUNCH_TIMEOUT': '40', 'JPY_INTERRUPT_EVENT': '2980', 'IPY_INTERRUPT_EVENT': '2980', 'JPY_PARENT_PID': '1512', 'TERM': 'xterm-color', 'CLICOLOR': '1', 'PAGER': 'cat', 'GIT_PAGER': 'cat', 'MPLBACKEND': 'module://ipykernel.pylab.backend_inline'})\n",
      "C:\\Users\\yiyeon\\TIL\\pythonBasic\n",
      "[]\n"
     ]
    }
   ],
   "source": [
    "#map(함수, 자료)\n",
    "\n",
    "#퀴즈1. 카페 제출\n",
    "#def twoTimes(n):\n",
    "    #1.\n",
    "#   return [2*i for i in n]\n",
    "#2.\n",
    "    # nlist = []\n",
    "    # for x in n:\n",
    "    #     x *= 2\n",
    "    #     nlist.append(x)\n",
    "    # return nlist\n",
    "\n",
    "#3.\n",
    "    # res = list(map(lambda x: x * 2, n))\n",
    "    # return res\n",
    "\n",
    "#4. map활용\n",
    "# def twoTimes(n):\n",
    "#     return n*2\n",
    "# res=list(map(twoTimes, [1,2,3]))\n",
    "# print(res) #[2,4,6]\n",
    "#\n",
    "# print(list(map(lambda x: x * 2, [1,2,3])))\n",
    "\n",
    "print(pow(3,2))\n",
    "print(3**2)\n",
    "\n",
    "print(round(3.141592,4))\n",
    "\n",
    "print(list(zip([1,2],[3,4],[5,6],[7,8])))\n",
    "\n",
    "# filter:특정 조건으로 걸러진 요소들을 묶어서 리턴, map과의 차이점이라면, 함수의 결과가 참/거짓인지에\n",
    "# 따라 요소를 포함할지를 결정\n",
    "\n",
    "t=list(range(1,11))\n",
    "print(t)\n",
    "#짝수 리스트를 출력\n",
    "#1. for\n",
    "def isEven(n):\n",
    "    return True if n % 2==0 else False   #n이 2로 나누어 떨어지면 True, 아니면 False 리턴\n",
    "# res=[]\n",
    "# for v in t:\n",
    "#     if isEven(v):\n",
    "#         res.append(v)\n",
    "# print(res)\n",
    "\n",
    "#2. filter\n",
    "print(list(filter(isEven, t)))\n",
    "\n",
    "#3. lambda\n",
    "print(list(filter(lambda x: x%2==0, t)))\n",
    "\n",
    "#os 모듈:디렉토리, 파일의 경로 등 확인/제어\n",
    "import os\n",
    "print(os.environ)\n",
    "\n",
    "print(os.getcwd()) # 현재 작업 경로\n",
    "#os.mkdir(\"sample\") #현재 작업 위치에 폴더 생성\n",
    "#os.rmdir(\"sample\")\n",
    "#os.rename(\"sample\", \"test\") #폴더명 변경\n",
    "#os.renames(\"hello.txt\", \"hi.txt\")\n",
    "\n",
    "import shutil\n",
    "shutil.copy(\"hi.txt\", \"hicopy.txt\") #파일 복사\n",
    "\n",
    "#특정 폴더 내에 있는 폴더 또는 파일 목록 등을 조사\n",
    "import glob\n",
    "#모든 파일 목록 출력\n",
    "#print(glob.glob(\"C:/Users/i/PycharmProjects/pythonBasic/*\"))\n",
    "\n",
    "#파일 확장자가  py인 파일들을 출력\n",
    "print(glob.glob(\"C:/Users/i/PycharmProjects/pythonBasic/*.py\"))"
   ]
  },
  {
   "cell_type": "code",
   "execution_count": null,
   "metadata": {},
   "outputs": [],
   "source": []
  }
 ],
 "metadata": {
  "kernelspec": {
   "display_name": "Python 3",
   "language": "python",
   "name": "python3"
  },
  "language_info": {
   "codemirror_mode": {
    "name": "ipython",
    "version": 3
   },
   "file_extension": ".py",
   "mimetype": "text/x-python",
   "name": "python",
   "nbconvert_exporter": "python",
   "pygments_lexer": "ipython3",
   "version": "3.7.4"
  }
 },
 "nbformat": 4,
 "nbformat_minor": 2
}
