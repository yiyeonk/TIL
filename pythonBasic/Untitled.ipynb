{
 "cells": [
  {
   "cell_type": "markdown",
   "metadata": {},
   "source": [
    "### 과제_web4"
   ]
  },
  {
   "cell_type": "code",
   "execution_count": 18,
   "metadata": {},
   "outputs": [],
   "source": [
    "from urllib.request import urlopen\n",
    "from urllib.parse import quote_plus\n",
    "from selenium import webdriver\n",
    "from bs4 import BeautifulSoup"
   ]
  },
  {
   "cell_type": "code",
   "execution_count": 38,
   "metadata": {
    "scrolled": true
   },
   "outputs": [
    {
     "name": "stdout",
     "output_type": "stream",
     "text": [
      "42\n"
     ]
    },
    {
     "ename": "AttributeError",
     "evalue": "'list' object has no attribute 'text'",
     "output_type": "error",
     "traceback": [
      "\u001b[1;31m---------------------------------------------------------------------------\u001b[0m",
      "\u001b[1;31mAttributeError\u001b[0m                            Traceback (most recent call last)",
      "\u001b[1;32m<ipython-input-38-65ee6554081b>\u001b[0m in \u001b[0;36m<module>\u001b[1;34m\u001b[0m\n\u001b[0;32m     11\u001b[0m \u001b[0mprod_items\u001b[0m \u001b[1;33m=\u001b[0m \u001b[0msoup\u001b[0m\u001b[1;33m.\u001b[0m\u001b[0mselect\u001b[0m\u001b[1;33m(\u001b[0m\u001b[1;34m'li.prod_item'\u001b[0m\u001b[1;33m)\u001b[0m\u001b[1;33m\u001b[0m\u001b[1;33m\u001b[0m\u001b[0m\n\u001b[0;32m     12\u001b[0m \u001b[0mprint\u001b[0m\u001b[1;33m(\u001b[0m\u001b[0mlen\u001b[0m\u001b[1;33m(\u001b[0m\u001b[0mprod_items\u001b[0m\u001b[1;33m)\u001b[0m\u001b[1;33m)\u001b[0m\u001b[1;33m\u001b[0m\u001b[1;33m\u001b[0m\u001b[0m\n\u001b[1;32m---> 13\u001b[1;33m \u001b[0mtitle\u001b[0m \u001b[1;33m=\u001b[0m \u001b[0mprod_items\u001b[0m\u001b[1;33m[\u001b[0m\u001b[1;36m0\u001b[0m\u001b[1;33m]\u001b[0m\u001b[1;33m.\u001b[0m\u001b[0mselect\u001b[0m\u001b[1;33m(\u001b[0m\u001b[1;34m'p.prod_name > a'\u001b[0m\u001b[1;33m)\u001b[0m\u001b[1;33m.\u001b[0m\u001b[0mtext\u001b[0m\u001b[1;33m.\u001b[0m\u001b[0mstrip\u001b[0m\u001b[1;33m(\u001b[0m\u001b[1;33m)\u001b[0m\u001b[1;33m\u001b[0m\u001b[1;33m\u001b[0m\u001b[0m\n\u001b[0m\u001b[0;32m     14\u001b[0m \u001b[0mprint\u001b[0m\u001b[1;33m(\u001b[0m\u001b[0mtitle\u001b[0m\u001b[1;33m)\u001b[0m\u001b[1;33m\u001b[0m\u001b[1;33m\u001b[0m\u001b[0m\n\u001b[0;32m     15\u001b[0m \u001b[1;33m\u001b[0m\u001b[0m\n",
      "\u001b[1;31mAttributeError\u001b[0m: 'list' object has no attribute 'text'"
     ]
    }
   ],
   "source": [
    "from selenium import webdriver\n",
    "driver = webdriver.Chrome('c:/scrap/chromedriver.exe')\n",
    "url = \"http://search.danawa.com/dsearch.php?query=무선청소기&tab=main\"\n",
    "driver.get(url)\n",
    "from bs4 import BeautifulSoup\n",
    "\n",
    "html = driver.page_source\n",
    "soup = BeautifulSoup(html, 'html.parser')\n",
    "# print(soup)\n",
    "\n",
    "prod_items = soup.select('li.prod_item')\n",
    "print(len(prod_items))\n",
    "title = prod_items[0].select('p.prod_name > a').text.strip()\n",
    "print(title)\n",
    "\n",
    "#adReaderProductItem12583850 > div > div.prod_info > p > a\n",
    "spec_list = prod_items[0].select('div.spec_list')[0].text.strip()\n",
    "# print(spec_list)"
   ]
  },
  {
   "cell_type": "code",
   "execution_count": 60,
   "metadata": {
    "scrolled": true
   },
   "outputs": [
    {
     "ename": "AttributeError",
     "evalue": "'NoneType' object has no attribute 'string'",
     "output_type": "error",
     "traceback": [
      "\u001b[1;31m---------------------------------------------------------------------------\u001b[0m",
      "\u001b[1;31mAttributeError\u001b[0m                            Traceback (most recent call last)",
      "\u001b[1;32m<ipython-input-60-223eb03c86f9>\u001b[0m in \u001b[0;36m<module>\u001b[1;34m\u001b[0m\n\u001b[0;32m     24\u001b[0m \u001b[1;33m\u001b[0m\u001b[0m\n\u001b[0;32m     25\u001b[0m \u001b[1;32mfor\u001b[0m \u001b[0mi\u001b[0m \u001b[1;32min\u001b[0m \u001b[0mrange\u001b[0m\u001b[1;33m(\u001b[0m\u001b[0mlen\u001b[0m\u001b[1;33m(\u001b[0m\u001b[0mprod_items\u001b[0m\u001b[1;33m)\u001b[0m\u001b[1;33m)\u001b[0m\u001b[1;33m:\u001b[0m\u001b[1;33m\u001b[0m\u001b[1;33m\u001b[0m\u001b[0m\n\u001b[1;32m---> 26\u001b[1;33m     \u001b[0mdate\u001b[0m \u001b[1;33m=\u001b[0m \u001b[0mprod_items\u001b[0m\u001b[1;33m[\u001b[0m\u001b[0mi\u001b[0m\u001b[1;33m]\u001b[0m\u001b[1;33m.\u001b[0m\u001b[0mfind\u001b[0m\u001b[1;33m(\u001b[0m\u001b[1;34m'dl.meta_item.mt_date > dd'\u001b[0m\u001b[1;33m)\u001b[0m\u001b[1;33m.\u001b[0m\u001b[0mstring\u001b[0m\u001b[1;33m\u001b[0m\u001b[1;33m\u001b[0m\u001b[0m\n\u001b[0m\u001b[0;32m     27\u001b[0m     \u001b[0mprint\u001b[0m\u001b[1;33m(\u001b[0m\u001b[1;34m\"등록월: \"\u001b[0m\u001b[1;33m,\u001b[0m \u001b[0mdate\u001b[0m\u001b[1;33m)\u001b[0m\u001b[1;33m\u001b[0m\u001b[1;33m\u001b[0m\u001b[0m\n\u001b[0;32m     28\u001b[0m \u001b[1;33m\u001b[0m\u001b[0m\n",
      "\u001b[1;31mAttributeError\u001b[0m: 'NoneType' object has no attribute 'string'"
     ]
    }
   ],
   "source": [
    "# 1. 다나와 -> 무선청소기 검색 결과\n",
    "driver = webdriver.Chrome('c:/scrap/chromedriver.exe')\n",
    "url = \"http://search.danawa.com/dsearch.php?query=무선청소기&tab=main\"\n",
    "driver.get(url)\n",
    "\n",
    "html = driver.page_source\n",
    "soup = BeautifulSoup(html, \"html.parser\")\n",
    "# print(soup)\n",
    "\n",
    "# 2-1. 무선청소기 모델명(굵은 글씨)\n",
    "prod_items = soup.select('li.prod_item')\n",
    "# print(len(prod_items))\n",
    "\n",
    "# for i in range(len(prod_items)):\n",
    "#     name = prod_items[i].select('p.prod_name > a')[0].string\n",
    "#     print(\"모델명: \",name)\n",
    "    \n",
    "# # 2-2. 인치 정보 \n",
    "# # 2-3. 등록월\n",
    "\n",
    "# date = prod_items[1].select('dl.meta_item')[0].string\n",
    "# print(date)\n",
    "# dic = {\"class\":\"meta_item.mt_date\", \"name\":\"dd\"}\n",
    "\n",
    "for i in range(len(prod_items)):\n",
    "    date = prod_items[i].find('dl.meta_item.mt_date > dd').string\n",
    "    print(\"등록월: \", date)\n",
    "\n",
    "    # # 2-4. 평점, 평점 건수 함께 가져오기\n",
    "\n",
    "# point = prod_items[1].select('div.point_num')[0].string\n",
    "# print(point)"
   ]
  },
  {
   "cell_type": "code",
   "execution_count": 80,
   "metadata": {
    "scrolled": true
   },
   "outputs": [
    {
     "name": "stdout",
     "output_type": "stream",
     "text": [
      "연식:  14/02\n",
      "연식:  12/03\n",
      "연식:  18/11(19년형)\n",
      "연식:  08/07\n",
      "연식:  20/04\n",
      "연식:  09/08(10년형)\n",
      "연식:  09/11(10년형)\n",
      "연식:  19/05\n",
      "연식:  20/02\n",
      "연식:  08/11(09년형)\n",
      "연식:  18/03\n",
      "연식:  16/09\n",
      "연식:  16/01\n",
      "연식:  19/01\n",
      "연식:  12/09(13년형)\n",
      "연식:  12/11(13년형)\n",
      "연식:  18/01\n",
      "연식:  16/11(17년형)\n",
      "연식:  11/05\n",
      "연식:  20/06\n",
      "연료:  LPG\n",
      "연료:  가솔린\n",
      "연료:  가솔린\n",
      "연료:  가솔린\n",
      "연료:  가솔린+전기\n",
      "연료:  가솔린\n",
      "연료:  가솔린\n",
      "연료:  가솔린\n",
      "연료:  가솔린\n",
      "연료:  가솔린\n",
      "연료:  LPG\n",
      "연료:  가솔린\n",
      "연료:  가솔린\n",
      "연료:  가솔린\n",
      "연료:  가솔린\n",
      "연료:  가솔린/LPG겸용\n",
      "연료:  가솔린\n",
      "연료:  디젤\n",
      "연료:  LPG\n",
      "연료:  LPG\n",
      "가격:  499만원\n",
      "가격:  1,150만원\n",
      "가격:  2,800만원\n",
      "가격:  299만원\n",
      "가격:  3,320만원\n",
      "가격:  220만원\n",
      "가격:  1,390만원\n",
      "가격:  3,440만원\n",
      "가격:  2,760만원\n",
      "가격:  340만원\n",
      "가격:  880만원\n",
      "가격:  2,960만원\n",
      "가격:  2,950만원\n",
      "가격:  2,750만원\n",
      "가격:  890만원\n",
      "가격:  580만원\n",
      "가격:  1,450만원\n",
      "가격:  1,150만원\n",
      "가격:  530만원\n",
      "가격:  2,540만원\n"
     ]
    }
   ],
   "source": [
    "# 3. 보배드림 -> 차량정보추출\n",
    "\n",
    "driver=webdriver.Chrome(\"C:/scrap/chromedriver.exe\")\n",
    "url = \"https://www.bobaedream.co.kr/mycar/mycar_list.php?gubun=K\"\n",
    "driver.get(url)\n",
    "html = driver.page_source\n",
    "\n",
    "soup = BeautifulSoup(html, \"html.parser\")\n",
    "\n",
    "# 3-1. 연식\n",
    "\n",
    "year_list = soup.select('div.mode-cell.year > span')\n",
    "for year in year_list:\n",
    "    print(\"연식: \", year.text)\n",
    "\n",
    "# 3-2. 연료\n",
    "\n",
    "fuel_list = soup.select(\"div.mode-cell.fuel > span\")\n",
    "for fuel in fuel_list:\n",
    "    print(\"연료: \", fuel.text)\n",
    "\n",
    "# 3-3. 가격\n",
    "\n",
    "price_list = soup.select(\"div.mode-cell.price > b\")\n",
    "for price in price_list:\n",
    "    print(\"가격: \",price.text)\n"
   ]
  },
  {
   "cell_type": "code",
   "execution_count": 114,
   "metadata": {},
   "outputs": [
    {
     "name": "stdout",
     "output_type": "stream",
     "text": [
      "1 위 Wonder Woman 1984\n",
      "2 위 Pieces of a Woman\n",
      "3 위 Soul\n",
      "4 위 Wolfwalkers\n",
      "5 위 Tenet\n",
      "6 위 Sound of Metal\n",
      "7 위 The Nest\n",
      "8 위 Herself\n",
      "9 위 The Midnight Sky\n",
      "10 위 Ma Rainey's Black Bottom\n"
     ]
    }
   ],
   "source": [
    "# 4. 영화제목 추출\n",
    "driver=webdriver.Chrome(\"C:/scrap/chromedriver.exe\")\n",
    "url = \"https://www.rottentomatoes.com/\"\n",
    "driver.get(url)\n",
    "html = driver.page_source\n",
    "\n",
    "soup = BeautifulSoup(html, \"html.parser\")\n",
    "\n",
    "pop_movies = soup.select('div:nth-child(1) > section > text-list > ul > li')\n",
    "movie_list = pop_movies[0].select('a:nth-child(1) > span')\n",
    "\n",
    "for i, movies in enumerate(range(len(pop_movies))):\n",
    "    movie_list = pop_movies[movies].select('a:nth-child(1) > span')[0].string\n",
    "    print(i+1,\"위\",movie_list)"
   ]
  }
 ],
 "metadata": {
  "kernelspec": {
   "display_name": "Python 3",
   "language": "python",
   "name": "python3"
  },
  "language_info": {
   "codemirror_mode": {
    "name": "ipython",
    "version": 3
   },
   "file_extension": ".py",
   "mimetype": "text/x-python",
   "name": "python",
   "nbconvert_exporter": "python",
   "pygments_lexer": "ipython3",
   "version": "3.7.4"
  }
 },
 "nbformat": 4,
 "nbformat_minor": 2
}
