{
  "nbformat": 4,
  "nbformat_minor": 0,
  "metadata": {
    "colab": {
      "name": "(금융)신용카드 사용자 연체 예측.ipynb",
      "private_outputs": true,
      "provenance": [],
      "collapsed_sections": []
    },
    "kernelspec": {
      "name": "python3",
      "display_name": "Python 3"
    },
    "language_info": {
      "name": "python"
    }
  },
  "cells": [
    {
      "cell_type": "markdown",
      "metadata": {
        "id": "hEPLNVsJeco7"
      },
      "source": [
        "# 신용카드 사용자 연체 예측 AI 경진대회\n",
        " - Dacon\n",
        " - 금융/정형/Logloss"
      ]
    },
    {
      "cell_type": "code",
      "metadata": {
        "id": "hWUAaQLGeWPS"
      },
      "source": [
        "from google.colab import drive\n",
        "drive.mount('/content/drive')"
      ],
      "execution_count": null,
      "outputs": []
    },
    {
      "cell_type": "code",
      "metadata": {
        "id": "IFl8un4fem3Q"
      },
      "source": [
        "!pip install catboost\n",
        "!pip install category_encoders"
      ],
      "execution_count": null,
      "outputs": []
    },
    {
      "cell_type": "markdown",
      "metadata": {
        "id": "2ZVy9Uake1ik"
      },
      "source": [
        "## 라이브러리 구성"
      ]
    },
    {
      "cell_type": "code",
      "metadata": {
        "id": "8MSg5FwSewdv"
      },
      "source": [
        "import numpy as np\n",
        "import pandas as pd\n",
        "import seaborn as sns\n",
        "import matplotlib.pyplot as plt\n",
        "import warnings, random\n",
        "warnings.filterwarnings(action='ignore')\n",
        "\n",
        "from sklearn.metrics import log_loss\n",
        "from sklearn.preprocessing import StandardScaler\n",
        "from category_encoders.ordinal import OrdinalEncoder\n",
        "from sklearn.model_selection import StratifiedKFold\n",
        "\n",
        "from sklearn.cluster import KMeans\n",
        "from catboost import CatBoostClassifier, Pool"
      ],
      "execution_count": null,
      "outputs": []
    },
    {
      "cell_type": "markdown",
      "metadata": {
        "id": "iRfSpEVKe7Pc"
      },
      "source": [
        "## 데이터 불러오기"
      ]
    },
    {
      "cell_type": "code",
      "metadata": {
        "id": "Pt8wu-fIe3es"
      },
      "source": [
        "path = '/content/drive/MyDrive/AI_Study/Kaggle&Dacon/data/'\n",
        "train = pd.read_csv(path + 'train.csv')\n",
        "test = pd.read_csv(path + 'test.csv')"
      ],
      "execution_count": null,
      "outputs": []
    },
    {
      "cell_type": "markdown",
      "metadata": {
        "id": "n8NWqUe9fGZ5"
      },
      "source": [
        "## 데이터 전처리"
      ]
    },
    {
      "cell_type": "code",
      "metadata": {
        "id": "M17CcbUqfKVB"
      },
      "source": [
        "# occyp_type  결측값 존재\n",
        "train.info()\n",
        "test.info()"
      ],
      "execution_count": null,
      "outputs": []
    },
    {
      "cell_type": "markdown",
      "metadata": {
        "id": "GoDDy-XUfYTg"
      },
      "source": [
        "### 1. 결측치 처리"
      ]
    },
    {
      "cell_type": "code",
      "metadata": {
        "id": "bIN-qGDEfE43"
      },
      "source": [
        "train.fillna('NaN', inplace=True) \n",
        "test.fillna('NaN', inplace=True)"
      ],
      "execution_count": null,
      "outputs": []
    },
    {
      "cell_type": "markdown",
      "metadata": {
        "id": "wNZnqVVVopHe"
      },
      "source": [
        "### 2. 이상치 처리\n",
        "- 'family_size' > 7  데이터 제거"
      ]
    },
    {
      "cell_type": "code",
      "metadata": {
        "id": "MwIShIPtoor4"
      },
      "source": [
        "train = train[(train['family_size'] <= 7)]\n",
        "train = train.reset_index(drop=True)"
      ],
      "execution_count": null,
      "outputs": []
    },
    {
      "cell_type": "markdown",
      "metadata": {
        "id": "13OEyEIw-19v"
      },
      "source": [
        "## Feature Engineering"
      ]
    },
    {
      "cell_type": "markdown",
      "metadata": {
        "id": "RBdKKS5c-65_"
      },
      "source": [
        "### 1. 의미없는 변수 제거\n",
        "- index 제거\n",
        "- FLAG_MOBIL 삭제(모든 값 동일)"
      ]
    },
    {
      "cell_type": "code",
      "metadata": {
        "id": "gPnOcm9VowVH"
      },
      "source": [
        "train.drop(['index', 'FLAG_MOBIL'], axis=1, inplace=True)\n",
        "test.drop(['index', 'FLAG_MOBIL'], axis=1, inplace=True)"
      ],
      "execution_count": null,
      "outputs": []
    },
    {
      "cell_type": "markdown",
      "metadata": {
        "id": "87H8u8v3_GjX"
      },
      "source": [
        "### 2. DAYS_EMPLOYED\n",
        "- DAYS_EMPLOYED > 0 = 무직자로 판단, 0 처리"
      ]
    },
    {
      "cell_type": "code",
      "metadata": {
        "id": "rWvVN1Rl_Dqu"
      },
      "source": [
        "train['DAYS_EMPLOYED'] = train['DAYS_EMPLOYED'].map(lambda x: 0 if x > 0 else x)\n",
        "test['DAYS_EMPLOYED'] = test['DAYS_EMPLOYED'].map(lambda x: 0 if x > 0 else x)"
      ],
      "execution_count": null,
      "outputs": []
    },
    {
      "cell_type": "markdown",
      "metadata": {
        "id": "IuBe9OeH_VlV"
      },
      "source": [
        "### 3. DAYS_BIRTH, begin_month, DAYS_EMPLOYED\n",
        "- 음수값 -> 양수값으로 변환"
      ]
    },
    {
      "cell_type": "code",
      "metadata": {
        "id": "NjxWadOt_Qu3"
      },
      "source": [
        "feats = ['DAYS_BIRTH', 'begin_month', 'DAYS_EMPLOYED']\n",
        "for feat in feats:\n",
        "    train[feat]=np.abs(train[feat])\n",
        "    test[feat]=np.abs(test[feat])"
      ],
      "execution_count": null,
      "outputs": []
    },
    {
      "cell_type": "code",
      "metadata": {
        "id": "ZAazccI4_ahq"
      },
      "source": [
        ""
      ],
      "execution_count": null,
      "outputs": []
    }
  ]
}