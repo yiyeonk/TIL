{
  "nbformat": 4,
  "nbformat_minor": 0,
  "metadata": {
    "colab": {
      "name": "(금융)신용카드 사용자 연체 예측.ipynb",
      "private_outputs": true,
      "provenance": [],
      "collapsed_sections": []
    },
    "kernelspec": {
      "name": "python3",
      "display_name": "Python 3"
    },
    "language_info": {
      "name": "python"
    }
  },
  "cells": [
    {
      "cell_type": "markdown",
      "metadata": {
        "id": "hEPLNVsJeco7"
      },
      "source": [
        "# 신용카드 사용자 연체 예측 AI 경진대회\n",
        " - Dacon\n",
        " - 금융/정형/Logloss\n",
        " - 필사 : 1위 '소회의실'"
      ]
    },
    {
      "cell_type": "code",
      "metadata": {
        "id": "hWUAaQLGeWPS"
      },
      "source": [
        "from google.colab import drive\n",
        "drive.mount('/content/drive')"
      ],
      "execution_count": null,
      "outputs": []
    },
    {
      "cell_type": "code",
      "metadata": {
        "id": "IFl8un4fem3Q"
      },
      "source": [
        "!pip install catboost\n",
        "!pip install category_encoders"
      ],
      "execution_count": null,
      "outputs": []
    },
    {
      "cell_type": "markdown",
      "metadata": {
        "id": "2ZVy9Uake1ik"
      },
      "source": [
        "## 라이브러리 구성"
      ]
    },
    {
      "cell_type": "code",
      "metadata": {
        "id": "8MSg5FwSewdv"
      },
      "source": [
        "import numpy as np\n",
        "import pandas as pd\n",
        "import seaborn as sns\n",
        "import matplotlib.pyplot as plt\n",
        "import warnings, random\n",
        "warnings.filterwarnings(action='ignore')\n",
        "\n",
        "from sklearn.metrics import log_loss\n",
        "from sklearn.preprocessing import StandardScaler\n",
        "from category_encoders.ordinal import OrdinalEncoder\n",
        "from sklearn.model_selection import StratifiedKFold\n",
        "\n",
        "from sklearn.cluster import KMeans\n",
        "from catboost import CatBoostClassifier, Pool"
      ],
      "execution_count": null,
      "outputs": []
    },
    {
      "cell_type": "markdown",
      "metadata": {
        "id": "iRfSpEVKe7Pc"
      },
      "source": [
        "## 데이터 불러오기"
      ]
    },
    {
      "cell_type": "code",
      "metadata": {
        "id": "Pt8wu-fIe3es"
      },
      "source": [
        "path = '/content/drive/MyDrive/AI_Study/Kaggle&Dacon/data/'\n",
        "train = pd.read_csv(path + 'train.csv')\n",
        "test = pd.read_csv(path + 'test.csv')"
      ],
      "execution_count": null,
      "outputs": []
    },
    {
      "cell_type": "markdown",
      "metadata": {
        "id": "n8NWqUe9fGZ5"
      },
      "source": [
        "## 데이터 전처리"
      ]
    },
    {
      "cell_type": "code",
      "metadata": {
        "id": "M17CcbUqfKVB"
      },
      "source": [
        "# occyp_type  결측값 존재\n",
        "train.info()\n",
        "test.info()"
      ],
      "execution_count": null,
      "outputs": []
    },
    {
      "cell_type": "markdown",
      "metadata": {
        "id": "GoDDy-XUfYTg"
      },
      "source": [
        "### 1. 결측치 처리"
      ]
    },
    {
      "cell_type": "code",
      "metadata": {
        "id": "bIN-qGDEfE43"
      },
      "source": [
        "train.fillna('NaN', inplace=True) \n",
        "test.fillna('NaN', inplace=True)"
      ],
      "execution_count": null,
      "outputs": []
    },
    {
      "cell_type": "markdown",
      "metadata": {
        "id": "wNZnqVVVopHe"
      },
      "source": [
        "### 2. 이상치 처리\n",
        "- 'family_size' > 7  데이터 제거"
      ]
    },
    {
      "cell_type": "code",
      "metadata": {
        "id": "MwIShIPtoor4"
      },
      "source": [
        "train = train[(train['family_size'] <= 7)]\n",
        "train = train.reset_index(drop=True)"
      ],
      "execution_count": null,
      "outputs": []
    },
    {
      "cell_type": "markdown",
      "metadata": {
        "id": "13OEyEIw-19v"
      },
      "source": [
        "## Feature Engineering"
      ]
    },
    {
      "cell_type": "markdown",
      "metadata": {
        "id": "RBdKKS5c-65_"
      },
      "source": [
        "### 1. 의미없는 변수 제거\n",
        "- index 제거\n",
        "- FLAG_MOBIL 삭제(모든 값 동일)"
      ]
    },
    {
      "cell_type": "code",
      "metadata": {
        "id": "gPnOcm9VowVH"
      },
      "source": [
        "train.drop(['index', 'FLAG_MOBIL'], axis=1, inplace=True)\n",
        "test.drop(['index', 'FLAG_MOBIL'], axis=1, inplace=True)"
      ],
      "execution_count": null,
      "outputs": []
    },
    {
      "cell_type": "markdown",
      "metadata": {
        "id": "87H8u8v3_GjX"
      },
      "source": [
        "### 2. DAYS_EMPLOYED\n",
        "- DAYS_EMPLOYED > 0 = 무직자로 판단, 0 처리"
      ]
    },
    {
      "cell_type": "code",
      "metadata": {
        "id": "rWvVN1Rl_Dqu"
      },
      "source": [
        "train['DAYS_EMPLOYED'] = train['DAYS_EMPLOYED'].map(lambda x: 0 if x > 0 else x)\n",
        "test['DAYS_EMPLOYED'] = test['DAYS_EMPLOYED'].map(lambda x: 0 if x > 0 else x)"
      ],
      "execution_count": null,
      "outputs": []
    },
    {
      "cell_type": "markdown",
      "metadata": {
        "id": "IuBe9OeH_VlV"
      },
      "source": [
        "### 3. DAYS_BIRTH, begin_month, DAYS_EMPLOYED\n",
        "- 음수값 -> 양수값으로 변환"
      ]
    },
    {
      "cell_type": "code",
      "metadata": {
        "id": "NjxWadOt_Qu3"
      },
      "source": [
        "feats = ['DAYS_BIRTH', 'begin_month', 'DAYS_EMPLOYED']\n",
        "for feat in feats:\n",
        "    train[feat]=np.abs(train[feat]) # 절대값으로 처리\n",
        "    test[feat]=np.abs(test[feat])"
      ],
      "execution_count": null,
      "outputs": []
    },
    {
      "cell_type": "markdown",
      "metadata": {
        "id": "aDO3XOnCzFcj"
      },
      "source": [
        "### 4. 파생변수\n",
        "- numeric 변수 : 최대한 다양한 특징을 보일 수 있도록 생성\n",
        "- category 변수 : 전체 변수를 합친 ID 생성\n",
        " "
      ]
    },
    {
      "cell_type": "code",
      "metadata": {
        "id": "ZAazccI4_ahq"
      },
      "source": [
        "for df in [train,test]:\n",
        "    # before_EMPLOYED: 고용되기 전까지의 일수\n",
        "    df['before_EMPLOYED'] = df['DAYS_BIRTH'] - df['DAYS_EMPLOYED']\n",
        "    df['income_total_befofeEMP_ratio'] = df['income_total'] / df['before_EMPLOYED']\n",
        "    df['before_EMPLOYED_m'] = np.floor(df['before_EMPLOYED'] / 30) - ((np.floor(df['before_EMPLOYED'] / 30) / 12).astype(int) * 12)\n",
        "    df['before_EMPLOYED_w'] = np.floor(df['before_EMPLOYED'] / 7) - ((np.floor(df['before_EMPLOYED'] / 7) / 4).astype(int) * 4)\n",
        "    \n",
        "    #DAYS_BIRTH 파생변수- Age(나이), 태어난 월, 태어난 주(출생연도의 n주차)\n",
        "    df['Age'] = df['DAYS_BIRTH'] // 365\n",
        "    df['DAYS_BIRTH_m'] = np.floor(df['DAYS_BIRTH'] / 30) - ((np.floor(df['DAYS_BIRTH'] / 30) / 12).astype(int) * 12)\n",
        "    df['DAYS_BIRTH_w'] = np.floor(df['DAYS_BIRTH'] / 7) - ((np.floor(df['DAYS_BIRTH'] / 7) / 4).astype(int) * 4)\n",
        "\n",
        "    #DAYS_EMPLOYED_m 파생변수- EMPLOYED(근속연수), DAYS_EMPLOYED_m(고용된 달) ,DAYS_EMPLOYED_w(고용된 주(고용연도의 n주차))  \n",
        "    df['EMPLOYED'] = df['DAYS_EMPLOYED'] // 365\n",
        "    df['DAYS_EMPLOYED_m'] = np.floor(df['DAYS_EMPLOYED'] / 30) - ((np.floor(df['DAYS_EMPLOYED'] / 30) / 12).astype(int) * 12)\n",
        "    df['DAYS_EMPLOYED_w'] = np.floor(df['DAYS_EMPLOYED'] / 7) - ((np.floor(df['DAYS_EMPLOYED'] / 7) / 4).astype(int) * 4)\n",
        "\n",
        "    #ability: 소득/(살아온 일수+ 근무일수)\n",
        "    df['ability'] = df['income_total'] / (df['DAYS_BIRTH'] + df['DAYS_EMPLOYED'])\n",
        "    \n",
        "    #income_mean: 소득/ 가족 수\n",
        "    df['income_mean'] = df['income_total'] / df['family_size']\n",
        "    \n",
        "    #ID 생성: 각 컬럼의 값들을 더해서 고유한 사람을 파악(*한 사람이 여러 개 카드를 만들 가능성을 고려해 begin_month는 제외함)\n",
        "    df['ID'] = \\\n",
        "    df['child_num'].astype(str) + '_' + df['income_total'].astype(str) + '_' +\\\n",
        "    df['DAYS_BIRTH'].astype(str) + '_' + df['DAYS_EMPLOYED'].astype(str) + '_' +\\\n",
        "    df['work_phone'].astype(str) + '_' + df['phone'].astype(str) + '_' +\\\n",
        "    df['email'].astype(str) + '_' + df['family_size'].astype(str) + '_' +\\\n",
        "    df['gender'].astype(str) + '_' + df['car'].astype(str) + '_' +\\\n",
        "    df['reality'].astype(str) + '_' + df['income_type'].astype(str) + '_' +\\\n",
        "    df['edu_type'].astype(str) + '_' + df['family_type'].astype(str) + '_' +\\\n",
        "    df['house_type'].astype(str) + '_' + df['occyp_type'].astype(str)"
      ],
      "execution_count": null,
      "outputs": []
    },
    {
      "cell_type": "markdown",
      "metadata": {
        "id": "rMsRGp-Czgyf"
      },
      "source": [
        "### 5. 파생변수와 다중공선을 보이는 컬럼 삭제"
      ]
    },
    {
      "cell_type": "code",
      "metadata": {
        "id": "K97R8TE0zcJm"
      },
      "source": [
        "cols = ['child_num', 'DAYS_BIRTH', 'DAYS_EMPLOYED',]\n",
        "train.drop(cols, axis=1, inplace=True)\n",
        "test.drop(cols, axis=1, inplace=True)"
      ],
      "execution_count": null,
      "outputs": []
    },
    {
      "cell_type": "code",
      "metadata": {
        "id": "36JitNavzlLr"
      },
      "source": [
        ""
      ],
      "execution_count": null,
      "outputs": []
    }
  ]
}